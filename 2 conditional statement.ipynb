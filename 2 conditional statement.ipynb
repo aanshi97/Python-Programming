{
 "cells": [
  {
   "cell_type": "markdown",
   "metadata": {},
   "source": [
    "# Conditional Statements (if,elif,else)"
   ]
  },
  {
   "cell_type": "code",
   "execution_count": 3,
   "metadata": {},
   "outputs": [
    {
     "name": "stdout",
     "output_type": "stream",
     "text": [
      "a=8\n",
      "b=3\n",
      "a is greater\n"
     ]
    }
   ],
   "source": [
    "#compair of two nos, which no is greater\n",
    "a=int(input('a='))\n",
    "b=int(input('b='))\n",
    "if a>b:\n",
    "    print('a is greater')\n",
    "else:\n",
    "    print('b is greater')"
   ]
  },
  {
   "cell_type": "code",
   "execution_count": 6,
   "metadata": {},
   "outputs": [
    {
     "name": "stdout",
     "output_type": "stream",
     "text": [
      "a=23\n",
      "b=5\n",
      "c=7\n",
      "a is greatest\n"
     ]
    }
   ],
   "source": [
    "#comparision of three nos, which is greatest no among three nos\n",
    "a=int(input('a='))\n",
    "b=int(input('b='))\n",
    "c=int(input('c='))\n",
    "if a>b  and a>c:\n",
    "    print('a is greatest')\n",
    "elif b>a and b>c:\n",
    "    print('b is greatest')\n",
    "else:\n",
    "    print('c is greatest')"
   ]
  },
  {
   "cell_type": "code",
   "execution_count": 1,
   "metadata": {},
   "outputs": [
    {
     "name": "stdout",
     "output_type": "stream",
     "text": [
      "a=3\n",
      "b=5\n",
      "c=9\n",
      "b id middle no\n"
     ]
    }
   ],
   "source": [
    "#print which no is middle no among three nos\n",
    "\n",
    "a=int(input('a='))\n",
    "b=int(input('b='))\n",
    "c=int(input('c='))\n",
    "if a>b and a<c or a<b and a>c:\n",
    "    print('a is middle no')\n",
    "elif b>a and b<c or b<a and b>c:\n",
    "    print('b id middle no')\n",
    "else:\n",
    "    print('c is middle no')"
   ]
  },
  {
   "cell_type": "code",
   "execution_count": 4,
   "metadata": {},
   "outputs": [
    {
     "name": "stdout",
     "output_type": "stream",
     "text": [
      "a=3\n",
      "odd no\n"
     ]
    }
   ],
   "source": [
    "#print input no is even or odd\n",
    "\n",
    "a=int(input('a='))\n",
    "#b=int(input('b='))\n",
    "if a%2==0:\n",
    "    print('even no')\n",
    "else:\n",
    "    print('odd no')\n",
    "\n"
   ]
  },
  {
   "cell_type": "code",
   "execution_count": 17,
   "metadata": {},
   "outputs": [
    {
     "name": "stdout",
     "output_type": "stream",
     "text": [
      "a=7\n",
      "prime no\n"
     ]
    }
   ],
   "source": [
    "#print no is prime or composite\n",
    "\n",
    "divisible=0\n",
    "a=int(input('a='))\n",
    "for i in range(2,a,1):\n",
    "    if a%i == 0:\n",
    "        divisible+=1\n",
    "if divisible==0:\n",
    "    print('prime no')\n",
    "else:\n",
    "    print('composite no')\n",
    "        "
   ]
  },
  {
   "cell_type": "code",
   "execution_count": null,
   "metadata": {},
   "outputs": [],
   "source": []
  }
 ],
 "metadata": {
  "kernelspec": {
   "display_name": "Python 3",
   "language": "python",
   "name": "python3"
  },
  "language_info": {
   "codemirror_mode": {
    "name": "ipython",
    "version": 3
   },
   "file_extension": ".py",
   "mimetype": "text/x-python",
   "name": "python",
   "nbconvert_exporter": "python",
   "pygments_lexer": "ipython3",
   "version": "3.6.5"
  }
 },
 "nbformat": 4,
 "nbformat_minor": 2
}
