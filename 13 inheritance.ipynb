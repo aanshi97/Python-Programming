{
 "cells": [
  {
   "cell_type": "markdown",
   "metadata": {},
   "source": [
    "# Inheritance (single, multilevel, multiple, hierarchical, hybrid)"
   ]
  },
  {
   "cell_type": "code",
   "execution_count": 23,
   "metadata": {},
   "outputs": [
    {
     "name": "stdout",
     "output_type": "stream",
     "text": [
      "a=5\n",
      "b=8\n",
      "enter operator=> +\n"
     ]
    },
    {
     "data": {
      "text/plain": [
       "13"
      ]
     },
     "execution_count": 23,
     "metadata": {},
     "output_type": "execute_result"
    }
   ],
   "source": [
    "#single inheritance\n",
    "\n",
    "\n",
    "class calculation:\n",
    "    def __init__(self):\n",
    "        self.a=int(input('a='))\n",
    "        self.b=int(input('b='))\n",
    "        \n",
    "   # def operator(s):\n",
    "    #    s.op=input(\"enter operator=\")\n",
    "        \n",
    "    def add(self):\n",
    "        return self.a+self.b\n",
    "    def sub(self):\n",
    "        return self.a-self.b\n",
    "    def mul(self):\n",
    "        return self.a*self.b\n",
    "    def div(self):\n",
    "        return self.a/self.b\n",
    "    \n",
    "class inherit(calculation):    \n",
    "    def operate(self):\n",
    "        self.op=input('enter operator=> ')\n",
    "       # s.operator()\n",
    "        if self.op=='+':\n",
    "            return self.add()\n",
    "        elif self.op=='-':\n",
    "            return self.sub()\n",
    "        elif self.op=='*':\n",
    "            return self.mul()\n",
    "        elif self.op=='/': \n",
    "            return self.div()\n",
    "        else:\n",
    "            return 'wrong section'\n",
    "\n",
    "ob = inherit()\n",
    "ob.operate()\n",
    "        "
   ]
  },
  {
   "cell_type": "code",
   "execution_count": null,
   "metadata": {},
   "outputs": [],
   "source": []
  },
  {
   "cell_type": "code",
   "execution_count": 25,
   "metadata": {},
   "outputs": [
    {
     "name": "stdout",
     "output_type": "stream",
     "text": [
      "a=5\n",
      "b=13\n",
      "enter operator=> -\n"
     ]
    },
    {
     "data": {
      "text/plain": [
       "-8"
      ]
     },
     "execution_count": 25,
     "metadata": {},
     "output_type": "execute_result"
    }
   ],
   "source": [
    "# multiple inheritance\n",
    "\n",
    "\n",
    "class variable:\n",
    "    def __init__(self):\n",
    "        self.a=int(input('a='))\n",
    "        self.b=int(input('b='))\n",
    "        \n",
    "   # def operator(s):\n",
    "    #    s.op=input(\"enter operator=\")\n",
    "    \n",
    "class calculation:\n",
    "    def add(self):\n",
    "        return self.a+self.b\n",
    "    def sub(self):\n",
    "        return self.a-self.b\n",
    "    def mul(self):\n",
    "        return self.a*self.b\n",
    "    def div(self):\n",
    "        return self.a/self.b\n",
    "    \n",
    "class inherit(variable,calculation):    \n",
    "    def operate(self):\n",
    "        self.op=input('enter operator=> ')\n",
    "       # s.operator()\n",
    "        if self.op=='+':\n",
    "            return self.add()\n",
    "        elif self.op=='-':\n",
    "            return self.sub()\n",
    "        elif self.op=='*':\n",
    "            return self.mul()\n",
    "        elif self.op=='/': \n",
    "            return self.div()\n",
    "        else:\n",
    "            return 'wrong section'\n",
    "\n",
    "ob = inherit()\n",
    "ob.operate()\n",
    "        "
   ]
  },
  {
   "cell_type": "code",
   "execution_count": null,
   "metadata": {},
   "outputs": [],
   "source": []
  },
  {
   "cell_type": "code",
   "execution_count": 2,
   "metadata": {},
   "outputs": [
    {
     "name": "stdout",
     "output_type": "stream",
     "text": [
      "8\n",
      "5\n",
      "operator*\n"
     ]
    },
    {
     "data": {
      "text/plain": [
       "40"
      ]
     },
     "execution_count": 2,
     "metadata": {},
     "output_type": "execute_result"
    }
   ],
   "source": [
    "#multilevel inheritance\n",
    "\n",
    "\n",
    "class initialize:                                      \n",
    "    def __init__(self):\n",
    "        self.a=int(input())\n",
    "        self.b=int(input())\n",
    "        \n",
    "    def operator(self):\n",
    "        self.op=input(\"operator\")\n",
    "        \n",
    "class operations(initialize):\n",
    "        \n",
    "    def add(self,x,y):\n",
    "        return x+y\n",
    "    def substract(self,x,y):\n",
    "        return x-y\n",
    "    def multiplication(self,x,y):\n",
    "        return x*y\n",
    "    def divide(self,x,y):\n",
    "        return x/y\n",
    "    \n",
    "class calculate(operations):    \n",
    "    def operate(self):\n",
    "        self.operator()\n",
    "        if self.op=='+':\n",
    "            return self.add(self.a,self.b)\n",
    "        elif self.op=='-':\n",
    "            return self.substract(self.a,self.b)\n",
    "        elif self.op=='*':\n",
    "            return self.multiplication(self.a,self.b)\n",
    "        elif self.op=='/': \n",
    "            return self.divide(self.a,self.b)\n",
    "        else:\n",
    "            return 'wrong section'\n",
    "        \n",
    "o=calculate()\n",
    "o.operate()\n",
    "        "
   ]
  },
  {
   "cell_type": "code",
   "execution_count": null,
   "metadata": {},
   "outputs": [],
   "source": []
  },
  {
   "cell_type": "code",
   "execution_count": 5,
   "metadata": {},
   "outputs": [],
   "source": [
    "class world:\n",
    "    def hello(self,x):\n",
    "        return(x)\n",
    "        \n",
    "class calculation:\n",
    "    def sum(self,x,y,z):\n",
    "        return(x+y+z)\n",
    "    def sub(self,x,y):\n",
    "        return(x-y)\n",
    "    def div(self,x,y):\n",
    "        return(x/y)\n",
    "    def mul(self,x,y,z):\n",
    "        return(x*y*z)\n"
   ]
  },
  {
   "cell_type": "code",
   "execution_count": 6,
   "metadata": {},
   "outputs": [],
   "source": [
    "\n",
    "class variable:\n",
    "    def __init__(self):\n",
    "        self.a=int(input('a='))\n",
    "        self.b=int(input('b='))\n",
    "        "
   ]
  },
  {
   "cell_type": "code",
   "execution_count": 7,
   "metadata": {},
   "outputs": [],
   "source": [
    "class calculation:\n",
    "    def add(self):\n",
    "        return self.a+self.b\n",
    "    def sub(self):\n",
    "        return self.a-self.b\n",
    "    def mul(self):\n",
    "        return self.a*self.b\n",
    "    def div(self):\n",
    "        return self.a/self.b"
   ]
  },
  {
   "cell_type": "code",
   "execution_count": 11,
   "metadata": {},
   "outputs": [],
   "source": [
    "class inherit(variable,calculation,world):        #here class inherit is inherited with variable,calculation,world classes\n",
    "    def operate(self):\n",
    "        self.op=input('enter operator=> ')\n",
    "       # s.operator()\n",
    "        if self.op=='+':\n",
    "            return self.add()world\n",
    "        elif self.op=='-':\n",
    "            return self.sub()\n",
    "        elif self.op=='*':\n",
    "            return self.mul()\n",
    "        elif self.op=='/': \n",
    "            return self.div()\n",
    "        else:\n",
    "            return 'wrong section'"
   ]
  },
  {
   "cell_type": "code",
   "execution_count": 12,
   "metadata": {},
   "outputs": [
    {
     "name": "stdout",
     "output_type": "stream",
     "text": [
      "a=5\n",
      "b=4\n",
      "enter operator=> +\n"
     ]
    },
    {
     "data": {
      "text/plain": [
       "9"
      ]
     },
     "execution_count": 12,
     "metadata": {},
     "output_type": "execute_result"
    }
   ],
   "source": [
    "o = inherit()\n",
    "o.operate()\n",
    "        "
   ]
  },
  {
   "cell_type": "code",
   "execution_count": 15,
   "metadata": {},
   "outputs": [
    {
     "data": {
      "text/plain": [
       "'Aanshi'"
      ]
     },
     "execution_count": 15,
     "metadata": {},
     "output_type": "execute_result"
    }
   ],
   "source": [
    "o.hello('Aanshi')"
   ]
  },
  {
   "cell_type": "code",
   "execution_count": 17,
   "metadata": {},
   "outputs": [],
   "source": [
    "class cal(inherit):              # here class cal is inherited with inherit class,,,,in cal class all property have which have inherit class\n",
    "    def add(self): \n",
    "        return self.a+self.b\n",
    "    def sub(self):\n",
    "        return self.a-self.b\n",
    "    def mul(self):\n",
    "        return self.a*self.b\n",
    "    def div(self):\n",
    "        return self.a/self.b"
   ]
  },
  {
   "cell_type": "code",
   "execution_count": 18,
   "metadata": {},
   "outputs": [
    {
     "name": "stdout",
     "output_type": "stream",
     "text": [
      "a=5\n",
      "b=7\n",
      "enter operator=> -\n"
     ]
    },
    {
     "data": {
      "text/plain": [
       "-2"
      ]
     },
     "execution_count": 18,
     "metadata": {},
     "output_type": "execute_result"
    }
   ],
   "source": [
    "p=cal()\n",
    "p.operate()"
   ]
  },
  {
   "cell_type": "code",
   "execution_count": null,
   "metadata": {},
   "outputs": [],
   "source": []
  },
  {
   "cell_type": "code",
   "execution_count": null,
   "metadata": {},
   "outputs": [],
   "source": []
  },
  {
   "cell_type": "code",
   "execution_count": null,
   "metadata": {},
   "outputs": [],
   "source": []
  },
  {
   "cell_type": "code",
   "execution_count": 27,
   "metadata": {},
   "outputs": [
    {
     "data": {
      "text/plain": [
       "9"
      ]
     },
     "execution_count": 27,
     "metadata": {},
     "output_type": "execute_result"
    }
   ],
   "source": [
    "# function override.......# super keyword\n",
    "\n",
    "\n",
    "class class1:\n",
    "    def cal(s,x,y):\n",
    "        return x*y\n",
    "    \n",
    "class class2(class1):\n",
    "     def new (s,x,y): \n",
    "        return super().cal(x,y)\n",
    "     def cal (s,x,y):\n",
    "        return x+y\n",
    "obj=class2()\n",
    "obj.cal(3,6)"
   ]
  },
  {
   "cell_type": "code",
   "execution_count": 28,
   "metadata": {},
   "outputs": [
    {
     "data": {
      "text/plain": [
       "18"
      ]
     },
     "execution_count": 28,
     "metadata": {},
     "output_type": "execute_result"
    }
   ],
   "source": [
    "obj.new(3,6)"
   ]
  },
  {
   "cell_type": "code",
   "execution_count": 8,
   "metadata": {},
   "outputs": [
    {
     "data": {
      "text/plain": [
       "10"
      ]
     },
     "execution_count": 8,
     "metadata": {},
     "output_type": "execute_result"
    }
   ],
   "source": [
    "class class1:\n",
    "    def fun(s,a,b):\n",
    "        return a*b\n",
    "    \n",
    "class class2:\n",
    "    def fun(s,a,b):\n",
    "        return a-b\n",
    "    \n",
    "class class3(class1,class2):\n",
    "    def newfun(s,a,b):\n",
    "        return super().fun(a,b)\n",
    "    def fun(s,a,b):\n",
    "        return a+b\n",
    "\n",
    "o=class3()\n",
    "\n",
    "o.fun(7,3)\n",
    "        \n",
    "    \n",
    "        "
   ]
  },
  {
   "cell_type": "code",
   "execution_count": 9,
   "metadata": {},
   "outputs": [
    {
     "data": {
      "text/plain": [
       "21"
      ]
     },
     "execution_count": 9,
     "metadata": {},
     "output_type": "execute_result"
    }
   ],
   "source": [
    "o.newfun(7,3)"
   ]
  },
  {
   "cell_type": "code",
   "execution_count": 10,
   "metadata": {},
   "outputs": [
    {
     "data": {
      "text/plain": [
       "13"
      ]
     },
     "execution_count": 10,
     "metadata": {},
     "output_type": "execute_result"
    }
   ],
   "source": [
    "o.fun(4,9)"
   ]
  },
  {
   "cell_type": "code",
   "execution_count": null,
   "metadata": {},
   "outputs": [],
   "source": []
  },
  {
   "cell_type": "code",
   "execution_count": null,
   "metadata": {},
   "outputs": [],
   "source": []
  },
  {
   "cell_type": "code",
   "execution_count": null,
   "metadata": {},
   "outputs": [],
   "source": []
  },
  {
   "cell_type": "code",
   "execution_count": 11,
   "metadata": {},
   "outputs": [
    {
     "data": {
      "text/plain": [
       "13"
      ]
     },
     "execution_count": 11,
     "metadata": {},
     "output_type": "execute_result"
    }
   ],
   "source": [
    "class class1:\n",
    "    def hello(s,x):\n",
    "        return x\n",
    "    \n",
    "class class2:\n",
    "    x=5\n",
    "    \n",
    "class class3:\n",
    "    y='my name is python'\n",
    "    def cal(s,a,b):\n",
    "        return a+b\n",
    "    \n",
    "class all(class1,class2,class3):\n",
    "    pass\n",
    "\n",
    "obj=all()\n",
    "\n",
    "    \n",
    "obj.cal(4,9)    "
   ]
  },
  {
   "cell_type": "code",
   "execution_count": 12,
   "metadata": {},
   "outputs": [
    {
     "data": {
      "text/plain": [
       "5"
      ]
     },
     "execution_count": 12,
     "metadata": {},
     "output_type": "execute_result"
    }
   ],
   "source": [
    "obj.x"
   ]
  },
  {
   "cell_type": "code",
   "execution_count": 13,
   "metadata": {},
   "outputs": [
    {
     "data": {
      "text/plain": [
       "'hi! my name is Aanshi'"
      ]
     },
     "execution_count": 13,
     "metadata": {},
     "output_type": "execute_result"
    }
   ],
   "source": [
    "obj.hello('hi! my name is Aanshi')"
   ]
  },
  {
   "cell_type": "code",
   "execution_count": 14,
   "metadata": {},
   "outputs": [
    {
     "data": {
      "text/plain": [
       "'my name is python'"
      ]
     },
     "execution_count": 14,
     "metadata": {},
     "output_type": "execute_result"
    }
   ],
   "source": [
    "obj.y"
   ]
  },
  {
   "cell_type": "code",
   "execution_count": null,
   "metadata": {},
   "outputs": [],
   "source": []
  },
  {
   "cell_type": "code",
   "execution_count": 25,
   "metadata": {},
   "outputs": [],
   "source": [
    "class class1:\n",
    "    def hello(s,x):\n",
    "        return x\n",
    "    \n",
    "class class2:\n",
    "    x=5\n",
    "    \n",
    "class class3:\n",
    "    y='my name is python'\n",
    "    def cal(s,a,b):\n",
    "        return a+b\n",
    "    \n",
    "class class4:\n",
    "    def __init__(s,p,q):\n",
    "        s.p=p\n",
    "        s.q=q\n",
    "    def mul(s):\n",
    "        return s.p*s.q\n",
    "    \n",
    "class class5:\n",
    "    def __init__(self):\n",
    "        self.p=int(input())\n",
    "        self.q=int(input())\n",
    "    def add(self):\n",
    "        return self.p + self.q\n",
    "    \n",
    "class all(class1,class2,class3,class4,class5):\n",
    "    pass\n",
    "\n",
    "o=all(9,7)\n"
   ]
  },
  {
   "cell_type": "code",
   "execution_count": 26,
   "metadata": {},
   "outputs": [
    {
     "data": {
      "text/plain": [
       "5"
      ]
     },
     "execution_count": 26,
     "metadata": {},
     "output_type": "execute_result"
    }
   ],
   "source": [
    "o.x"
   ]
  },
  {
   "cell_type": "code",
   "execution_count": 27,
   "metadata": {},
   "outputs": [
    {
     "data": {
      "text/plain": [
       "13"
      ]
     },
     "execution_count": 27,
     "metadata": {},
     "output_type": "execute_result"
    }
   ],
   "source": [
    "o.cal(4,9)"
   ]
  },
  {
   "cell_type": "code",
   "execution_count": 28,
   "metadata": {},
   "outputs": [
    {
     "data": {
      "text/plain": [
       "63"
      ]
     },
     "execution_count": 28,
     "metadata": {},
     "output_type": "execute_result"
    }
   ],
   "source": [
    "o.mul()"
   ]
  },
  {
   "cell_type": "code",
   "execution_count": 29,
   "metadata": {},
   "outputs": [
    {
     "data": {
      "text/plain": [
       "16"
      ]
     },
     "execution_count": 29,
     "metadata": {},
     "output_type": "execute_result"
    }
   ],
   "source": [
    "o.add()"
   ]
  },
  {
   "cell_type": "code",
   "execution_count": null,
   "metadata": {},
   "outputs": [],
   "source": []
  }
 ],
 "metadata": {
  "kernelspec": {
   "display_name": "Python 3",
   "language": "python",
   "name": "python3"
  },
  "language_info": {
   "codemirror_mode": {
    "name": "ipython",
    "version": 3
   },
   "file_extension": ".py",
   "mimetype": "text/x-python",
   "name": "python",
   "nbconvert_exporter": "python",
   "pygments_lexer": "ipython3",
   "version": "3.6.5"
  }
 },
 "nbformat": 4,
 "nbformat_minor": 2
}
