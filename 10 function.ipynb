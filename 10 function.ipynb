{
 "cells": [
  {
   "cell_type": "markdown",
   "metadata": {},
   "source": [
    "# Function"
   ]
  },
  {
   "cell_type": "code",
   "execution_count": 8,
   "metadata": {},
   "outputs": [
    {
     "name": "stdout",
     "output_type": "stream",
     "text": [
      "a=3\n",
      "b=5\n"
     ]
    }
   ],
   "source": [
    "def demo():\n",
    "    a = int(input('a='))\n",
    "    b = int(input('b='))\n",
    "    c = a**3\n",
    "    d = b+3\n",
    "    return(c,d)\n",
    "n=demo()\n"
   ]
  },
  {
   "cell_type": "code",
   "execution_count": 9,
   "metadata": {},
   "outputs": [
    {
     "data": {
      "text/plain": [
       "(27, 8)"
      ]
     },
     "execution_count": 9,
     "metadata": {},
     "output_type": "execute_result"
    }
   ],
   "source": [
    "n"
   ]
  },
  {
   "cell_type": "code",
   "execution_count": 72,
   "metadata": {},
   "outputs": [
    {
     "name": "stdout",
     "output_type": "stream",
     "text": [
      "a=3\n",
      "b=7\n"
     ]
    },
    {
     "data": {
      "text/plain": [
       "(27, 10)"
      ]
     },
     "execution_count": 72,
     "metadata": {},
     "output_type": "execute_result"
    }
   ],
   "source": [
    "def demo():\n",
    "    a = int(input('a='))\n",
    "    b = int(input('b='))\n",
    "    c = a**3\n",
    "    d = b+3\n",
    "    return(c,d)\n",
    "demo()\n"
   ]
  },
  {
   "cell_type": "code",
   "execution_count": 75,
   "metadata": {},
   "outputs": [
    {
     "name": "stdout",
     "output_type": "stream",
     "text": [
      "a=3\n",
      "b=7\n",
      "result= 27 10\n",
      "a=4\n",
      "b=10\n",
      "result= 64 13\n",
      "a=5\n",
      "b=12\n",
      "result= 125 15\n"
     ]
    }
   ],
   "source": [
    "def demo():\n",
    "    a = int(input('a='))\n",
    "    b = int(input('b='))\n",
    "    c = a**3\n",
    "    d = b+3\n",
    "    print('result=',c,d)\n",
    "demo()\n",
    "demo()\n",
    "demo()"
   ]
  },
  {
   "cell_type": "code",
   "execution_count": 76,
   "metadata": {},
   "outputs": [
    {
     "name": "stdout",
     "output_type": "stream",
     "text": [
      "a=3\n",
      "b=7\n",
      "a=4\n",
      "b=10\n",
      "a=5\n",
      "b=12\n"
     ]
    },
    {
     "data": {
      "text/plain": [
       "('result=', 125, 15)"
      ]
     },
     "execution_count": 76,
     "metadata": {},
     "output_type": "execute_result"
    }
   ],
   "source": [
    "def demo():\n",
    "    a = int(input('a='))\n",
    "    b = int(input('b='))\n",
    "    c = a**3\n",
    "    d = b+3\n",
    "    return('result=',c,d)\n",
    "demo()\n",
    "demo()\n",
    "demo()"
   ]
  },
  {
   "cell_type": "code",
   "execution_count": 1,
   "metadata": {},
   "outputs": [
    {
     "data": {
      "text/plain": [
       "(27, 10)"
      ]
     },
     "execution_count": 1,
     "metadata": {},
     "output_type": "execute_result"
    }
   ],
   "source": [
    "def demo(a,b):\n",
    "    #a = int(input())\n",
    "   # b = int(input())\n",
    "    c = a**3\n",
    "    d = b+3\n",
    "    return(c,d)\n",
    "demo(3,7)\n"
   ]
  },
  {
   "cell_type": "code",
   "execution_count": 32,
   "metadata": {},
   "outputs": [
    {
     "ename": "NameError",
     "evalue": "name 'x' is not defined",
     "output_type": "error",
     "traceback": [
      "\u001b[1;31m---------------------------------------------------------------------------\u001b[0m",
      "\u001b[1;31mNameError\u001b[0m                                 Traceback (most recent call last)",
      "\u001b[1;32m<ipython-input-32-4e83b84145c4>\u001b[0m in \u001b[0;36m<module>\u001b[1;34m()\u001b[0m\n\u001b[0;32m      5\u001b[0m     \u001b[0md\u001b[0m \u001b[1;33m=\u001b[0m \u001b[0mb\u001b[0m\u001b[1;33m+\u001b[0m\u001b[1;36m3\u001b[0m\u001b[1;33m\u001b[0m\u001b[0m\n\u001b[0;32m      6\u001b[0m     \u001b[1;32mreturn\u001b[0m\u001b[1;33m(\u001b[0m\u001b[0mc\u001b[0m\u001b[1;33m,\u001b[0m\u001b[0md\u001b[0m\u001b[1;33m)\u001b[0m\u001b[1;33m\u001b[0m\u001b[0m\n\u001b[1;32m----> 7\u001b[1;33m \u001b[0mdemo\u001b[0m\u001b[1;33m(\u001b[0m\u001b[0mx\u001b[0m\u001b[1;33m,\u001b[0m\u001b[0my\u001b[0m\u001b[1;33m)\u001b[0m\u001b[1;33m\u001b[0m\u001b[0m\n\u001b[0m",
      "\u001b[1;31mNameError\u001b[0m: name 'x' is not defined"
     ]
    }
   ],
   "source": [
    "def demo(a,b):\n",
    "    x = int(input())\n",
    "    y = int(input())\n",
    "    c = a**3\n",
    "    d = b+3\n",
    "    return(c,d)\n",
    "demo(x,y)\n"
   ]
  },
  {
   "cell_type": "code",
   "execution_count": 81,
   "metadata": {},
   "outputs": [
    {
     "data": {
      "text/plain": [
       "(125, 36)"
      ]
     },
     "execution_count": 81,
     "metadata": {},
     "output_type": "execute_result"
    }
   ],
   "source": [
    "def demo(a=5, b=6):\n",
    "    return a**3 , b**2\n",
    "demo()"
   ]
  },
  {
   "cell_type": "code",
   "execution_count": 3,
   "metadata": {},
   "outputs": [
    {
     "data": {
      "text/plain": [
       "(125, 9)"
      ]
     },
     "execution_count": 3,
     "metadata": {},
     "output_type": "execute_result"
    }
   ],
   "source": [
    "def demo(a=5,b=6):\n",
    "    c=a**3\n",
    "    d= b+3\n",
    "    return(c,d)\n",
    "demo()"
   ]
  },
  {
   "cell_type": "code",
   "execution_count": 2,
   "metadata": {},
   "outputs": [
    {
     "data": {
      "text/plain": [
       "(125, 10)"
      ]
     },
     "execution_count": 2,
     "metadata": {},
     "output_type": "execute_result"
    }
   ],
   "source": [
    "def demo(a=5,b=6):\n",
    "  #  c=a**3\n",
    "   # d= b+3\n",
    "    return(a**3,b+3)\n",
    "demo(b=7)"
   ]
  },
  {
   "cell_type": "code",
   "execution_count": 4,
   "metadata": {},
   "outputs": [
    {
     "data": {
      "text/plain": [
       "64"
      ]
     },
     "execution_count": 4,
     "metadata": {},
     "output_type": "execute_result"
    }
   ],
   "source": [
    "def cube(y): \n",
    "    return y**3; \n",
    "cube(4)"
   ]
  },
  {
   "cell_type": "code",
   "execution_count": 29,
   "metadata": {},
   "outputs": [
    {
     "ename": "TypeError",
     "evalue": "var_param() takes 1 positional argument but 5 were given",
     "output_type": "error",
     "traceback": [
      "\u001b[1;31m---------------------------------------------------------------------------\u001b[0m",
      "\u001b[1;31mTypeError\u001b[0m                                 Traceback (most recent call last)",
      "\u001b[1;32m<ipython-input-29-e1b990b09d58>\u001b[0m in \u001b[0;36m<module>\u001b[1;34m()\u001b[0m\n\u001b[0;32m      7\u001b[0m     \u001b[1;31m#    print(i)\u001b[0m\u001b[1;33m\u001b[0m\u001b[1;33m\u001b[0m\u001b[0m\n\u001b[0;32m      8\u001b[0m     \u001b[1;31m#print(sum)\u001b[0m\u001b[1;33m\u001b[0m\u001b[1;33m\u001b[0m\u001b[0m\n\u001b[1;32m----> 9\u001b[1;33m \u001b[0mvar_param\u001b[0m\u001b[1;33m(\u001b[0m\u001b[1;36m3\u001b[0m\u001b[1;33m,\u001b[0m\u001b[1;36m6\u001b[0m\u001b[1;33m,\u001b[0m\u001b[1;36m1\u001b[0m\u001b[1;33m,\u001b[0m\u001b[1;36m4\u001b[0m\u001b[1;33m,\u001b[0m\u001b[1;36m5\u001b[0m\u001b[1;33m)\u001b[0m\u001b[1;33m\u001b[0m\u001b[0m\n\u001b[0m",
      "\u001b[1;31mTypeError\u001b[0m: var_param() takes 1 positional argument but 5 were given"
     ]
    }
   ],
   "source": [
    "def var_param(y):\n",
    "    print(type(y))\n",
    "    sum = 0\n",
    "    for i in y:\n",
    "        sum = sum+i\n",
    "    return sum\n",
    "    #    print(i)\n",
    "    #print(sum)\n",
    "var_param(3,6,1,4,5)"
   ]
  },
  {
   "cell_type": "code",
   "execution_count": 31,
   "metadata": {},
   "outputs": [
    {
     "name": "stdout",
     "output_type": "stream",
     "text": [
      "<class 'tuple'>\n"
     ]
    },
    {
     "data": {
      "text/plain": [
       "19"
      ]
     },
     "execution_count": 31,
     "metadata": {},
     "output_type": "execute_result"
    }
   ],
   "source": [
    "def var_param(*y):\n",
    "    print(type(y))\n",
    "    sum = 0\n",
    "    for i in y:\n",
    "        sum = sum+i\n",
    "    return sum\n",
    "var_param(3,6,1,4,5)"
   ]
  },
  {
   "cell_type": "code",
   "execution_count": 36,
   "metadata": {},
   "outputs": [
    {
     "ename": "SyntaxError",
     "evalue": "invalid syntax (<ipython-input-36-79c366644d17>, line 7)",
     "output_type": "error",
     "traceback": [
      "\u001b[1;36m  File \u001b[1;32m\"<ipython-input-36-79c366644d17>\"\u001b[1;36m, line \u001b[1;32m7\u001b[0m\n\u001b[1;33m    var_param(for a in range(1,6,1))\u001b[0m\n\u001b[1;37m                ^\u001b[0m\n\u001b[1;31mSyntaxError\u001b[0m\u001b[1;31m:\u001b[0m invalid syntax\n"
     ]
    }
   ],
   "source": [
    "def var_param(*y):\n",
    "    print(type(y))\n",
    "    sum = 0\n",
    "    for i in y:\n",
    "        sum = sum+i\n",
    "    return sum\n",
    "var_param(for a in range(1,6,1))"
   ]
  },
  {
   "cell_type": "code",
   "execution_count": 1,
   "metadata": {},
   "outputs": [
    {
     "name": "stdout",
     "output_type": "stream",
     "text": [
      "a=10\n",
      "**********\n",
      "a=5\n",
      "*****\n",
      "a=7\n",
      "*******\n"
     ]
    }
   ],
   "source": [
    "def line():\n",
    "    a=int(input('a='))\n",
    "    for i in range(a):\n",
    "        print('*',end='')\n",
    "    print()\n",
    "#line(a):\n",
    "line()\n",
    "line()\n",
    "line()"
   ]
  },
  {
   "cell_type": "code",
   "execution_count": 3,
   "metadata": {},
   "outputs": [
    {
     "name": "stdout",
     "output_type": "stream",
     "text": [
      "a=5\n",
      "*\n",
      "**\n",
      "***\n",
      "****\n",
      "\n",
      "a=9\n",
      "*\n",
      "**\n",
      "***\n",
      "****\n",
      "*****\n",
      "******\n",
      "*******\n",
      "********\n",
      "\n",
      "a=4\n",
      "*\n",
      "**\n",
      "***\n",
      "\n"
     ]
    }
   ],
   "source": [
    "def line():\n",
    "    a=int(input('a='))\n",
    "    for i in range(1,a,1):\n",
    "        print(i*'*')\n",
    "    print()\n",
    "#line(a):\n",
    "line()\n",
    "line()\n",
    "line()"
   ]
  },
  {
   "cell_type": "code",
   "execution_count": 3,
   "metadata": {},
   "outputs": [
    {
     "name": "stdout",
     "output_type": "stream",
     "text": [
      "a=11\n",
      "--------- *\n",
      "-------- ***\n",
      "------- *****\n",
      "------ *******\n",
      "----- *********\n",
      "---- ***********\n",
      "--- *************\n",
      "-- ***************\n",
      "- *****************\n",
      " *******************\n",
      "\n",
      "a=6\n",
      "--------- *\n",
      "-------- ***\n",
      "------- *****\n",
      "------ *******\n",
      "----- *********\n",
      "\n",
      "a=4\n",
      "--------- *\n",
      "-------- ***\n",
      "------- *****\n",
      "\n"
     ]
    }
   ],
   "source": [
    "def tri():\n",
    "    a=int(input('a='))\n",
    "    for i in range(1,a,1):\n",
    "        print((10-i)*'-',(2*i-1)*'*')\n",
    "    print()\n",
    "#line(a):\n",
    "tri()\n",
    "tri()\n",
    "tri()"
   ]
  },
  {
   "cell_type": "code",
   "execution_count": 12,
   "metadata": {},
   "outputs": [
    {
     "data": {
      "text/plain": [
       "25"
      ]
     },
     "execution_count": 12,
     "metadata": {},
     "output_type": "execute_result"
    }
   ],
   "source": [
    "def cube(y): \n",
    "    return y**3\n",
    "cube(4)\n",
    "def squre(z):\n",
    "    return z**2\n",
    "#cube(4)\n",
    "squre(5)"
   ]
  },
  {
   "cell_type": "code",
   "execution_count": 12,
   "metadata": {},
   "outputs": [
    {
     "data": {
      "text/plain": [
       "98.60000000000001"
      ]
     },
     "execution_count": 12,
     "metadata": {},
     "output_type": "execute_result"
    }
   ],
   "source": [
    "def tem_convertor(i,t):\n",
    "    #i=int(input('i='))\n",
    "    #t=int(input('t='))\n",
    "    if i=='c':\n",
    "        c=(t-32)*(5/9)\n",
    "        return(c)\n",
    "    elif i=='f':\n",
    "        F=1.8*t+32\n",
    "        return(F)\n",
    "tem_convertor('f',37)       "
   ]
  },
  {
   "cell_type": "code",
   "execution_count": 7,
   "metadata": {},
   "outputs": [
    {
     "name": "stdout",
     "output_type": "stream",
     "text": [
      "i=False\n",
      "t=34\n"
     ]
    }
   ],
   "source": [
    "def tem_convertor():\n",
    "    i=input('i=')\n",
    "    t=input('t=')\n",
    "    if i==True:\n",
    "        c=(t-32)*(5/9)\n",
    "        return(c)\n",
    "    elif i==False:\n",
    "        F=1.8*t+32\n",
    "        return(F)\n",
    "a=tem_convertor()       "
   ]
  },
  {
   "cell_type": "code",
   "execution_count": 8,
   "metadata": {},
   "outputs": [
    {
     "ename": "NameError",
     "evalue": "name 'c' is not defined",
     "output_type": "error",
     "traceback": [
      "\u001b[1;31m---------------------------------------------------------------------------\u001b[0m",
      "\u001b[1;31mNameError\u001b[0m                                 Traceback (most recent call last)",
      "\u001b[1;32m<ipython-input-8-2b66fd261ee5>\u001b[0m in \u001b[0;36m<module>\u001b[1;34m()\u001b[0m\n\u001b[1;32m----> 1\u001b[1;33m \u001b[0mc\u001b[0m\u001b[1;33m\u001b[0m\u001b[0m\n\u001b[0m",
      "\u001b[1;31mNameError\u001b[0m: name 'c' is not defined"
     ]
    }
   ],
   "source": [
    "c"
   ]
  },
  {
   "cell_type": "code",
   "execution_count": 18,
   "metadata": {},
   "outputs": [
    {
     "name": "stdout",
     "output_type": "stream",
     "text": [
      "12\n",
      "12\n"
     ]
    }
   ],
   "source": [
    "def fun():\n",
    "    x=7\n",
    "    y=5                     # local scope\n",
    "    z=x+y\n",
    "    print(z)\n",
    "fun()\n",
    "fun()"
   ]
  },
  {
   "cell_type": "code",
   "execution_count": 10,
   "metadata": {},
   "outputs": [
    {
     "name": "stdout",
     "output_type": "stream",
     "text": [
      "9\n"
     ]
    }
   ],
   "source": [
    "x=9                           # global scope\n",
    "def fun1():\n",
    "    #z=x+y\n",
    "    print(x)\n",
    "fun1()\n",
    "    "
   ]
  },
  {
   "cell_type": "code",
   "execution_count": 17,
   "metadata": {},
   "outputs": [
    {
     "name": "stdout",
     "output_type": "stream",
     "text": [
      "17\n",
      "17\n"
     ]
    }
   ],
   "source": [
    "x=9 ; y=8\n",
    "def fun1():\n",
    "    z=x+y\n",
    "    print(z)\n",
    "fun1()\n",
    "fun1()  "
   ]
  },
  {
   "cell_type": "code",
   "execution_count": 21,
   "metadata": {},
   "outputs": [
    {
     "name": "stdout",
     "output_type": "stream",
     "text": [
      "12\n"
     ]
    }
   ],
   "source": [
    "x=7\n",
    "def fun2():\n",
    "    global x                 # here we use global keyword and declare x to change value of x\n",
    "    x=x+5\n",
    "    print(x)\n",
    "fun2()\n",
    "    "
   ]
  },
  {
   "cell_type": "code",
   "execution_count": 28,
   "metadata": {},
   "outputs": [
    {
     "name": "stdout",
     "output_type": "stream",
     "text": [
      "12\n"
     ]
    }
   ],
   "source": [
    "x=4; y=9\n",
    "def fun3():\n",
    "    global x,y\n",
    "    x=7\n",
    "    y=5\n",
    "    c=x+y\n",
    "    print(c)\n",
    "fun3()"
   ]
  },
  {
   "cell_type": "code",
   "execution_count": 41,
   "metadata": {},
   "outputs": [
    {
     "name": "stdout",
     "output_type": "stream",
     "text": [
      "15\n"
     ]
    }
   ],
   "source": [
    "x=7; y=9; z=2\n",
    "def fun4():\n",
    "    #global y, z\n",
    "    y=3; z=5\n",
    "    c=x+y+z\n",
    "    print(c)\n",
    "fun4()"
   ]
  },
  {
   "cell_type": "code",
   "execution_count": 48,
   "metadata": {},
   "outputs": [
    {
     "name": "stdout",
     "output_type": "stream",
     "text": [
      "0\n",
      "1\n",
      "2\n",
      "3\n",
      "4\n"
     ]
    }
   ],
   "source": [
    "def fun5():\n",
    "    count=0\n",
    "    for i in range(5):\n",
    "        #count=count+1\n",
    "        print(count)\n",
    "        count +=1\n",
    "fun5()\n",
    "#fun5()"
   ]
  },
  {
   "cell_type": "code",
   "execution_count": 54,
   "metadata": {},
   "outputs": [
    {
     "ename": "RecursionError",
     "evalue": "maximum recursion depth exceeded",
     "output_type": "error",
     "traceback": [
      "\u001b[1;31m---------------------------------------------------------------------------\u001b[0m",
      "\u001b[1;31mRecursionError\u001b[0m                            Traceback (most recent call last)",
      "\u001b[1;32m<ipython-input-54-4d2a89024362>\u001b[0m in \u001b[0;36m<module>\u001b[1;34m()\u001b[0m\n\u001b[0;32m      4\u001b[0m     \u001b[1;31m# else:\u001b[0m\u001b[1;33m\u001b[0m\u001b[1;33m\u001b[0m\u001b[0m\n\u001b[0;32m      5\u001b[0m     \u001b[1;32mreturn\u001b[0m \u001b[1;33m(\u001b[0m\u001b[0mn\u001b[0m\u001b[1;33m*\u001b[0m\u001b[0mfactorial\u001b[0m\u001b[1;33m(\u001b[0m\u001b[0mn\u001b[0m\u001b[1;33m-\u001b[0m\u001b[1;36m1\u001b[0m\u001b[1;33m)\u001b[0m\u001b[1;33m)\u001b[0m\u001b[1;33m\u001b[0m\u001b[0m\n\u001b[1;32m----> 6\u001b[1;33m \u001b[0mfactorial\u001b[0m\u001b[1;33m(\u001b[0m\u001b[1;36m8\u001b[0m\u001b[1;33m)\u001b[0m\u001b[1;33m\u001b[0m\u001b[0m\n\u001b[0m\u001b[0;32m      7\u001b[0m \u001b[1;33m\u001b[0m\u001b[0m\n\u001b[0;32m      8\u001b[0m \u001b[1;33m\u001b[0m\u001b[0m\n",
      "\u001b[1;32m<ipython-input-54-4d2a89024362>\u001b[0m in \u001b[0;36mfactorial\u001b[1;34m(n)\u001b[0m\n\u001b[0;32m      3\u001b[0m       \u001b[1;31m#      return 1\u001b[0m\u001b[1;33m\u001b[0m\u001b[1;33m\u001b[0m\u001b[0m\n\u001b[0;32m      4\u001b[0m     \u001b[1;31m# else:\u001b[0m\u001b[1;33m\u001b[0m\u001b[1;33m\u001b[0m\u001b[0m\n\u001b[1;32m----> 5\u001b[1;33m     \u001b[1;32mreturn\u001b[0m \u001b[1;33m(\u001b[0m\u001b[0mn\u001b[0m\u001b[1;33m*\u001b[0m\u001b[0mfactorial\u001b[0m\u001b[1;33m(\u001b[0m\u001b[0mn\u001b[0m\u001b[1;33m-\u001b[0m\u001b[1;36m1\u001b[0m\u001b[1;33m)\u001b[0m\u001b[1;33m)\u001b[0m\u001b[1;33m\u001b[0m\u001b[0m\n\u001b[0m\u001b[0;32m      6\u001b[0m \u001b[0mfactorial\u001b[0m\u001b[1;33m(\u001b[0m\u001b[1;36m8\u001b[0m\u001b[1;33m)\u001b[0m\u001b[1;33m\u001b[0m\u001b[0m\n\u001b[0;32m      7\u001b[0m \u001b[1;33m\u001b[0m\u001b[0m\n",
      "... last 1 frames repeated, from the frame below ...\n",
      "\u001b[1;32m<ipython-input-54-4d2a89024362>\u001b[0m in \u001b[0;36mfactorial\u001b[1;34m(n)\u001b[0m\n\u001b[0;32m      3\u001b[0m       \u001b[1;31m#      return 1\u001b[0m\u001b[1;33m\u001b[0m\u001b[1;33m\u001b[0m\u001b[0m\n\u001b[0;32m      4\u001b[0m     \u001b[1;31m# else:\u001b[0m\u001b[1;33m\u001b[0m\u001b[1;33m\u001b[0m\u001b[0m\n\u001b[1;32m----> 5\u001b[1;33m     \u001b[1;32mreturn\u001b[0m \u001b[1;33m(\u001b[0m\u001b[0mn\u001b[0m\u001b[1;33m*\u001b[0m\u001b[0mfactorial\u001b[0m\u001b[1;33m(\u001b[0m\u001b[0mn\u001b[0m\u001b[1;33m-\u001b[0m\u001b[1;36m1\u001b[0m\u001b[1;33m)\u001b[0m\u001b[1;33m)\u001b[0m\u001b[1;33m\u001b[0m\u001b[0m\n\u001b[0m\u001b[0;32m      6\u001b[0m \u001b[0mfactorial\u001b[0m\u001b[1;33m(\u001b[0m\u001b[1;36m8\u001b[0m\u001b[1;33m)\u001b[0m\u001b[1;33m\u001b[0m\u001b[0m\n\u001b[0;32m      7\u001b[0m \u001b[1;33m\u001b[0m\u001b[0m\n",
      "\u001b[1;31mRecursionError\u001b[0m: maximum recursion depth exceeded"
     ]
    }
   ],
   "source": [
    "def factorial(n):\n",
    "     #    if n==1:\n",
    "      #      return 1\n",
    "    # else:\n",
    "    return (n*factorial(n-1))\n",
    "factorial(8)\n",
    "\n",
    "    "
   ]
  },
  {
   "cell_type": "code",
   "execution_count": 65,
   "metadata": {},
   "outputs": [
    {
     "name": "stdout",
     "output_type": "stream",
     "text": [
      "24\n"
     ]
    }
   ],
   "source": [
    "#def fac():\n",
    "f=1\n",
    "a=4\n",
    "for i in range(1,a+1,1):\n",
    "    f=f*i\n",
    "print(f)\n",
    "#fac(4)"
   ]
  },
  {
   "cell_type": "code",
   "execution_count": 69,
   "metadata": {},
   "outputs": [
    {
     "ename": "TypeError",
     "evalue": "fac() takes 0 positional arguments but 1 was given",
     "output_type": "error",
     "traceback": [
      "\u001b[1;31m---------------------------------------------------------------------------\u001b[0m",
      "\u001b[1;31mTypeError\u001b[0m                                 Traceback (most recent call last)",
      "\u001b[1;32m<ipython-input-69-b98460b60578>\u001b[0m in \u001b[0;36m<module>\u001b[1;34m()\u001b[0m\n\u001b[0;32m      3\u001b[0m     \u001b[0mf\u001b[0m\u001b[1;33m=\u001b[0m\u001b[0mf\u001b[0m\u001b[1;33m*\u001b[0m\u001b[0ma\u001b[0m\u001b[1;33m\u001b[0m\u001b[0m\n\u001b[0;32m      4\u001b[0m     \u001b[0mprint\u001b[0m\u001b[1;33m(\u001b[0m\u001b[0mf\u001b[0m\u001b[1;33m)\u001b[0m\u001b[1;33m\u001b[0m\u001b[0m\n\u001b[1;32m----> 5\u001b[1;33m \u001b[0mfac\u001b[0m\u001b[1;33m(\u001b[0m\u001b[1;36m4\u001b[0m\u001b[1;33m)\u001b[0m\u001b[1;33m\u001b[0m\u001b[0m\n\u001b[0m",
      "\u001b[1;31mTypeError\u001b[0m: fac() takes 0 positional arguments but 1 was given"
     ]
    }
   ],
   "source": [
    "f=1\n",
    "def fac():\n",
    "    f=f*a\n",
    "    print(f)\n",
    "fac(4)"
   ]
  },
  {
   "cell_type": "code",
   "execution_count": 6,
   "metadata": {},
   "outputs": [
    {
     "name": "stdout",
     "output_type": "stream",
     "text": [
      "n=4\n",
      "factorial of no 4 is 24\n"
     ]
    }
   ],
   "source": [
    "#print factorial of any number (recursion)\n",
    "\n",
    "def fact(n):\n",
    "   # n=int(input('n='))\n",
    "    if n==1:\n",
    "        return 1\n",
    "    else:\n",
    "        return (n*fact(n-1))\n",
    "n=int(input('n='))\n",
    "print('factorial of no',n,'is',fact(n))\n",
    "#fact(n)"
   ]
  },
  {
   "cell_type": "code",
   "execution_count": 1,
   "metadata": {},
   "outputs": [
    {
     "ename": "RecursionError",
     "evalue": "maximum recursion depth exceeded",
     "output_type": "error",
     "traceback": [
      "\u001b[1;31m---------------------------------------------------------------------------\u001b[0m",
      "\u001b[1;31mRecursionError\u001b[0m                            Traceback (most recent call last)",
      "\u001b[1;32m<ipython-input-1-e7d133d34e32>\u001b[0m in \u001b[0;36m<module>\u001b[1;34m()\u001b[0m\n\u001b[0;32m      1\u001b[0m \u001b[1;32mdef\u001b[0m \u001b[0mfact1\u001b[0m\u001b[1;33m(\u001b[0m\u001b[0mn\u001b[0m\u001b[1;33m)\u001b[0m\u001b[1;33m:\u001b[0m\u001b[1;33m\u001b[0m\u001b[0m\n\u001b[0;32m      2\u001b[0m     \u001b[1;32mreturn\u001b[0m \u001b[1;33m(\u001b[0m\u001b[0mn\u001b[0m\u001b[1;33m*\u001b[0m\u001b[0mfact1\u001b[0m\u001b[1;33m(\u001b[0m\u001b[0mn\u001b[0m\u001b[1;33m-\u001b[0m\u001b[1;36m1\u001b[0m\u001b[1;33m)\u001b[0m\u001b[1;33m)\u001b[0m\u001b[1;33m\u001b[0m\u001b[0m\n\u001b[1;32m----> 3\u001b[1;33m \u001b[0mfact1\u001b[0m\u001b[1;33m(\u001b[0m\u001b[1;36m4\u001b[0m\u001b[1;33m)\u001b[0m\u001b[1;33m\u001b[0m\u001b[0m\n\u001b[0m",
      "\u001b[1;32m<ipython-input-1-e7d133d34e32>\u001b[0m in \u001b[0;36mfact1\u001b[1;34m(n)\u001b[0m\n\u001b[0;32m      1\u001b[0m \u001b[1;32mdef\u001b[0m \u001b[0mfact1\u001b[0m\u001b[1;33m(\u001b[0m\u001b[0mn\u001b[0m\u001b[1;33m)\u001b[0m\u001b[1;33m:\u001b[0m\u001b[1;33m\u001b[0m\u001b[0m\n\u001b[1;32m----> 2\u001b[1;33m     \u001b[1;32mreturn\u001b[0m \u001b[1;33m(\u001b[0m\u001b[0mn\u001b[0m\u001b[1;33m*\u001b[0m\u001b[0mfact1\u001b[0m\u001b[1;33m(\u001b[0m\u001b[0mn\u001b[0m\u001b[1;33m-\u001b[0m\u001b[1;36m1\u001b[0m\u001b[1;33m)\u001b[0m\u001b[1;33m)\u001b[0m\u001b[1;33m\u001b[0m\u001b[0m\n\u001b[0m\u001b[0;32m      3\u001b[0m \u001b[0mfact1\u001b[0m\u001b[1;33m(\u001b[0m\u001b[1;36m4\u001b[0m\u001b[1;33m)\u001b[0m\u001b[1;33m\u001b[0m\u001b[0m\n",
      "... last 1 frames repeated, from the frame below ...\n",
      "\u001b[1;32m<ipython-input-1-e7d133d34e32>\u001b[0m in \u001b[0;36mfact1\u001b[1;34m(n)\u001b[0m\n\u001b[0;32m      1\u001b[0m \u001b[1;32mdef\u001b[0m \u001b[0mfact1\u001b[0m\u001b[1;33m(\u001b[0m\u001b[0mn\u001b[0m\u001b[1;33m)\u001b[0m\u001b[1;33m:\u001b[0m\u001b[1;33m\u001b[0m\u001b[0m\n\u001b[1;32m----> 2\u001b[1;33m     \u001b[1;32mreturn\u001b[0m \u001b[1;33m(\u001b[0m\u001b[0mn\u001b[0m\u001b[1;33m*\u001b[0m\u001b[0mfact1\u001b[0m\u001b[1;33m(\u001b[0m\u001b[0mn\u001b[0m\u001b[1;33m-\u001b[0m\u001b[1;36m1\u001b[0m\u001b[1;33m)\u001b[0m\u001b[1;33m)\u001b[0m\u001b[1;33m\u001b[0m\u001b[0m\n\u001b[0m\u001b[0;32m      3\u001b[0m \u001b[0mfact1\u001b[0m\u001b[1;33m(\u001b[0m\u001b[1;36m4\u001b[0m\u001b[1;33m)\u001b[0m\u001b[1;33m\u001b[0m\u001b[0m\n",
      "\u001b[1;31mRecursionError\u001b[0m: maximum recursion depth exceeded"
     ]
    }
   ],
   "source": [
    "def fact1(n):\n",
    "    return (n*fact1(n-1))\n",
    "fact1(4)\n"
   ]
  },
  {
   "cell_type": "code",
   "execution_count": 16,
   "metadata": {},
   "outputs": [
    {
     "data": {
      "text/plain": [
       "'0b110'"
      ]
     },
     "execution_count": 16,
     "metadata": {},
     "output_type": "execute_result"
    }
   ],
   "source": [
    "bin(6)"
   ]
  },
  {
   "cell_type": "code",
   "execution_count": 17,
   "metadata": {},
   "outputs": [
    {
     "data": {
      "text/plain": [
       "False"
      ]
     },
     "execution_count": 17,
     "metadata": {},
     "output_type": "execute_result"
    }
   ],
   "source": [
    "bool(0)"
   ]
  },
  {
   "cell_type": "code",
   "execution_count": 18,
   "metadata": {},
   "outputs": [
    {
     "data": {
      "text/plain": [
       "True"
      ]
     },
     "execution_count": 18,
     "metadata": {},
     "output_type": "execute_result"
    }
   ],
   "source": [
    "bool(1)"
   ]
  },
  {
   "cell_type": "code",
   "execution_count": 19,
   "metadata": {},
   "outputs": [
    {
     "data": {
      "text/plain": [
       "True"
      ]
     },
     "execution_count": 19,
     "metadata": {},
     "output_type": "execute_result"
    }
   ],
   "source": [
    "bool(6)"
   ]
  },
  {
   "cell_type": "code",
   "execution_count": 20,
   "metadata": {},
   "outputs": [
    {
     "data": {
      "text/plain": [
       "7"
      ]
     },
     "execution_count": 20,
     "metadata": {},
     "output_type": "execute_result"
    }
   ],
   "source": [
    "abs(-7)"
   ]
  },
  {
   "cell_type": "code",
   "execution_count": 21,
   "metadata": {},
   "outputs": [
    {
     "data": {
      "text/plain": [
       "7"
      ]
     },
     "execution_count": 21,
     "metadata": {},
     "output_type": "execute_result"
    }
   ],
   "source": [
    "abs(7)"
   ]
  },
  {
   "cell_type": "code",
   "execution_count": 22,
   "metadata": {},
   "outputs": [
    {
     "data": {
      "text/plain": [
       "0"
      ]
     },
     "execution_count": 22,
     "metadata": {},
     "output_type": "execute_result"
    }
   ],
   "source": [
    "abs(0)"
   ]
  },
  {
   "cell_type": "code",
   "execution_count": 24,
   "metadata": {},
   "outputs": [
    {
     "data": {
      "text/plain": [
       "'a'"
      ]
     },
     "execution_count": 24,
     "metadata": {},
     "output_type": "execute_result"
    }
   ],
   "source": [
    "chr(97)"
   ]
  },
  {
   "cell_type": "code",
   "execution_count": 25,
   "metadata": {},
   "outputs": [
    {
     "data": {
      "text/plain": [
       "(5+0j)"
      ]
     },
     "execution_count": 25,
     "metadata": {},
     "output_type": "execute_result"
    }
   ],
   "source": [
    "complex(5)"
   ]
  },
  {
   "cell_type": "code",
   "execution_count": 26,
   "metadata": {},
   "outputs": [
    {
     "data": {
      "text/plain": [
       "(4+9j)"
      ]
     },
     "execution_count": 26,
     "metadata": {},
     "output_type": "execute_result"
    }
   ],
   "source": [
    "complex(4,9)"
   ]
  },
  {
   "cell_type": "code",
   "execution_count": 27,
   "metadata": {},
   "outputs": [
    {
     "ename": "TypeError",
     "evalue": "complex() takes at most 2 arguments (3 given)",
     "output_type": "error",
     "traceback": [
      "\u001b[1;31m---------------------------------------------------------------------------\u001b[0m",
      "\u001b[1;31mTypeError\u001b[0m                                 Traceback (most recent call last)",
      "\u001b[1;32m<ipython-input-27-57f0404e137a>\u001b[0m in \u001b[0;36m<module>\u001b[1;34m()\u001b[0m\n\u001b[1;32m----> 1\u001b[1;33m \u001b[0mcomplex\u001b[0m\u001b[1;33m(\u001b[0m\u001b[1;36m5\u001b[0m\u001b[1;33m,\u001b[0m\u001b[1;36m8\u001b[0m\u001b[1;33m,\u001b[0m\u001b[1;36m7\u001b[0m\u001b[1;33m)\u001b[0m\u001b[1;33m\u001b[0m\u001b[0m\n\u001b[0m",
      "\u001b[1;31mTypeError\u001b[0m: complex() takes at most 2 arguments (3 given)"
     ]
    }
   ],
   "source": [
    "complex(5,8,7)"
   ]
  },
  {
   "cell_type": "code",
   "execution_count": 39,
   "metadata": {},
   "outputs": [
    {
     "data": {
      "text/plain": [
       "{3: 7, 'h': 4.7, 6: 'u'}"
      ]
     },
     "execution_count": 39,
     "metadata": {},
     "output_type": "execute_result"
    }
   ],
   "source": [
    "dict([(3,7),('h',4.7),(6,'u')])"
   ]
  },
  {
   "cell_type": "code",
   "execution_count": 44,
   "metadata": {},
   "outputs": [
    {
     "data": {
      "text/plain": [
       "(2, 1)"
      ]
     },
     "execution_count": 44,
     "metadata": {},
     "output_type": "execute_result"
    }
   ],
   "source": [
    "divmod(7,3)"
   ]
  },
  {
   "cell_type": "code",
   "execution_count": 45,
   "metadata": {},
   "outputs": [
    {
     "data": {
      "text/plain": [
       "4.0"
      ]
     },
     "execution_count": 45,
     "metadata": {},
     "output_type": "execute_result"
    }
   ],
   "source": [
    "float(4)"
   ]
  },
  {
   "cell_type": "code",
   "execution_count": 46,
   "metadata": {},
   "outputs": [
    {
     "data": {
      "text/plain": [
       "5.0"
      ]
     },
     "execution_count": 46,
     "metadata": {},
     "output_type": "execute_result"
    }
   ],
   "source": [
    "float('5')"
   ]
  },
  {
   "cell_type": "code",
   "execution_count": 48,
   "metadata": {},
   "outputs": [
    {
     "data": {
      "text/plain": [
       "'0x10'"
      ]
     },
     "execution_count": 48,
     "metadata": {},
     "output_type": "execute_result"
    }
   ],
   "source": [
    "hex(16)"
   ]
  },
  {
   "cell_type": "code",
   "execution_count": 53,
   "metadata": {},
   "outputs": [
    {
     "name": "stdout",
     "output_type": "stream",
     "text": [
      "enter the num=5\n"
     ]
    },
    {
     "data": {
      "text/plain": [
       "'5'"
      ]
     },
     "execution_count": 53,
     "metadata": {},
     "output_type": "execute_result"
    }
   ],
   "source": [
    "input('enter the num=')"
   ]
  },
  {
   "cell_type": "code",
   "execution_count": 54,
   "metadata": {},
   "outputs": [
    {
     "name": "stdout",
     "output_type": "stream",
     "text": [
      "6\n"
     ]
    },
    {
     "data": {
      "text/plain": [
       "'6'"
      ]
     },
     "execution_count": 54,
     "metadata": {},
     "output_type": "execute_result"
    }
   ],
   "source": [
    "input()"
   ]
  },
  {
   "cell_type": "code",
   "execution_count": 55,
   "metadata": {},
   "outputs": [
    {
     "data": {
      "text/plain": [
       "4"
      ]
     },
     "execution_count": 55,
     "metadata": {},
     "output_type": "execute_result"
    }
   ],
   "source": [
    "round(3.5)"
   ]
  },
  {
   "cell_type": "code",
   "execution_count": 56,
   "metadata": {},
   "outputs": [
    {
     "data": {
      "text/plain": [
       "7"
      ]
     },
     "execution_count": 56,
     "metadata": {},
     "output_type": "execute_result"
    }
   ],
   "source": [
    "round(7.33)"
   ]
  },
  {
   "cell_type": "code",
   "execution_count": null,
   "metadata": {},
   "outputs": [
    {
     "name": "stdout",
     "output_type": "stream",
     "text": [
      "\n",
      "Welcome to Python 3.6's help utility!\n",
      "\n",
      "If this is your first time using Python, you should definitely check out\n",
      "the tutorial on the Internet at https://docs.python.org/3.6/tutorial/.\n",
      "\n",
      "Enter the name of any module, keyword, or topic to get help on writing\n",
      "Python programs and using Python modules.  To quit this help utility and\n",
      "return to the interpreter, just type \"quit\".\n",
      "\n",
      "To get a list of available modules, keywords, symbols, or topics, type\n",
      "\"modules\", \"keywords\", \"symbols\", or \"topics\".  Each module also comes\n",
      "with a one-line summary of what it does; to list the modules whose name\n",
      "or summary contain a given string such as \"spam\", type \"modules spam\".\n",
      "\n",
      "help> keywords\n",
      "\n",
      "Here is a list of the Python keywords.  Enter any keyword to get more help.\n",
      "\n",
      "False               def                 if                  raise\n",
      "None                del                 import              return\n",
      "True                elif                in                  try\n",
      "and                 else                is                  while\n",
      "as                  except              lambda              with\n",
      "assert              finally             nonlocal            yield\n",
      "break               for                 not                 \n",
      "class               from                or                  \n",
      "continue            global              pass                \n",
      "\n",
      "help> symbols\n",
      "\n",
      "Here is a list of the punctuation symbols which Python assigns special meaning\n",
      "to. Enter any symbol to get more help.\n",
      "\n",
      "!=                  *=                  <<                  ^\n",
      "\"                   +                   <<=                 ^=\n",
      "\"\"\"                 +=                  <=                  _\n",
      "%                   ,                   <>                  __\n",
      "%=                  -                   ==                  `\n",
      "&                   -=                  >                   b\"\n",
      "&=                  .                   >=                  b'\n",
      "'                   ...                 >>                  j\n",
      "'''                 /                   >>=                 r\"\n",
      "(                   //                  @                   r'\n",
      ")                   //=                 J                   |\n",
      "*                   /=                  [                   |=\n",
      "**                  :                   \\                   ~\n",
      "**=                 <                   ]                   \n",
      "\n",
      "help> topics\n",
      "\n",
      "Here is a list of available topics.  Enter any topic name to get more help.\n",
      "\n",
      "ASSERTION           DELETION            LOOPING             SHIFTING\n",
      "ASSIGNMENT          DICTIONARIES        MAPPINGMETHODS      SLICINGS\n",
      "ATTRIBUTEMETHODS    DICTIONARYLITERALS  MAPPINGS            SPECIALATTRIBUTES\n",
      "ATTRIBUTES          DYNAMICFEATURES     METHODS             SPECIALIDENTIFIERS\n",
      "AUGMENTEDASSIGNMENT ELLIPSIS            MODULES             SPECIALMETHODS\n",
      "BASICMETHODS        EXCEPTIONS          NAMESPACES          STRINGMETHODS\n",
      "BINARY              EXECUTION           NONE                STRINGS\n",
      "BITWISE             EXPRESSIONS         NUMBERMETHODS       SUBSCRIPTS\n",
      "BOOLEAN             FLOAT               NUMBERS             TRACEBACKS\n",
      "CALLABLEMETHODS     FORMATTING          OBJECTS             TRUTHVALUE\n",
      "CALLS               FRAMEOBJECTS        OPERATORS           TUPLELITERALS\n",
      "CLASSES             FRAMES              PACKAGES            TUPLES\n",
      "CODEOBJECTS         FUNCTIONS           POWER               TYPEOBJECTS\n",
      "COMPARISON          IDENTIFIERS         PRECEDENCE          TYPES\n",
      "COMPLEX             IMPORTING           PRIVATENAMES        UNARY\n",
      "CONDITIONAL         INTEGER             RETURNING           UNICODE\n",
      "CONTEXTMANAGERS     LISTLITERALS        SCOPING             \n",
      "CONVERSIONS         LISTS               SEQUENCEMETHODS     \n",
      "DEBUGGING           LITERALS            SEQUENCES           \n",
      "\n",
      "help> modules\n",
      "\n",
      "Please wait a moment while I gather a list of all available modules...\n",
      "\n"
     ]
    },
    {
     "name": "stderr",
     "output_type": "stream",
     "text": [
      "C:\\ProgramData\\Anaconda3\\lib\\site-packages\\IPython\\kernel\\__init__.py:13: ShimWarning: The `IPython.kernel` package has been deprecated since IPython 4.0.You should import from ipykernel or jupyter_client instead.\n",
      "  \"You should import from ipykernel or jupyter_client instead.\", ShimWarning)\n",
      "WARNING: AstropyDeprecationWarning: astropy.utils.compat.futures is now deprecated - use concurrent.futures instead [astropy.utils.compat.futures]\n",
      "C:\\ProgramData\\Anaconda3\\lib\\site-packages\\h5py\\__init__.py:36: FutureWarning: Conversion of the second argument of issubdtype from `float` to `np.floating` is deprecated. In future, it will be treated as `np.float64 == np.dtype(float).type`.\n",
      "  from ._conv import register_converters as _register_converters\n",
      "C:\\ProgramData\\Anaconda3\\lib\\site-packages\\odo\\backends\\pandas.py:102: FutureWarning: pandas.tslib is deprecated and will be removed in a future version.\n",
      "You can access NaTType as type(pandas.NaT)\n",
      "  @convert.register((pd.Timestamp, pd.Timedelta), (pd.tslib.NaTType, type(None)))\n",
      "C:\\ProgramData\\Anaconda3\\lib\\site-packages\\nltk\\twitter\\__init__.py:20: UserWarning: The twython library has not been installed. Some functionality from the twitter package will not be available.\n",
      "  warnings.warn(\"The twython library has not been installed. \"\n",
      "C:\\ProgramData\\Anaconda3\\lib\\site-packages\\skimage\\viewer\\utils\\core.py:10: UserWarning: Recommended matplotlib backend is `Agg` for full skimage.viewer functionality.\n",
      "  warn(\"Recommended matplotlib backend is `Agg` for full \"\n",
      "C:\\ProgramData\\Anaconda3\\lib\\site-packages\\qtawesome\\iconic_font.py:268: UserWarning: You need to have a running QApplication to use QtAwesome!\n",
      "  warnings.warn(\"You need to have a running \"\n",
      "C:\\ProgramData\\Anaconda3\\lib\\pkgutil.py:107: VisibleDeprecationWarning: zmq.eventloop.minitornado is deprecated in pyzmq 14.0 and will be removed.\n",
      "    Install tornado itself to use zmq with the tornado IOLoop.\n",
      "    \n",
      "  yield from walk_packages(path, info.name+'.', onerror)\n"
     ]
    },
    {
     "name": "stdout",
     "output_type": "stream",
     "text": [
      "Crypto              bz2                 mkl_random          sphinxcontrib\n",
      "Cython              cProfile            mmap                spyder\n",
      "IPython             calendar            mmapfile            spyder_breakpoints\n",
      "OpenSSL             certifi             mmsystem            spyder_io_dcm\n",
      "PIL                 cffi                modulefinder        spyder_io_hdf5\n",
      "PyQt5               cgi                 more_itertools      spyder_profiler\n",
      "__future__          cgitb               mpmath              spyder_pylint\n",
      "_ast                chardet             msgpack             sqlalchemy\n",
      "_asyncio            chunk               msilib              sqlite3\n",
      "_bisect             click               msvcrt              sre_compile\n",
      "_blake2             cloudpickle         multipledispatch    sre_constants\n",
      "_bootlocale         clyent              multiprocessing     sre_parse\n",
      "_bz2                cmath               navigator_updater   ssl\n",
      "_cffi_backend       cmd                 nbconvert           sspi\n",
      "_codecs             code                nbformat            sspicon\n",
      "_codecs_cn          codecs              netbios             stat\n",
      "_codecs_hk          codeop              netrc               statistics\n",
      "_codecs_iso2022     collections         networkx            statsmodels\n",
      "_codecs_jp          colorama            nltk                storemagic\n",
      "_codecs_kr          colorsys            nntplib             string\n",
      "_codecs_tw          commctrl            nose                stringprep\n",
      "_collections        compileall          notebook            struct\n",
      "_collections_abc    comtypes            nt                  subprocess\n",
      "_compat_pickle      concurrent          ntpath              sunau\n",
      "_compression        conda               ntsecuritycon       symbol\n",
      "_csv                conda_build         nturl2path          sympy\n",
      "_ctypes             conda_env           numba               sympyprinting\n",
      "_ctypes_test        conda_verify        numbers             symtable\n",
      "_datetime           configparser        numexpr             sys\n",
      "_decimal            contextlib          numpy               sysconfig\n",
      "_distutils_findvs   contextlib2         numpydoc            tables\n",
      "_dummy_thread       copy                odbc                tabnanny\n",
      "_elementtree        copyreg             odo                 tarfile\n",
      "_functools          crypt               olefile             tblib\n",
      "_hashlib            cryptography        opcode              telnetlib\n",
      "_heapq              csv                 openpyxl            tempfile\n",
      "_imp                ctypes              operator            terminado\n",
      "_io                 curl                optparse            test\n",
      "_json               curses              os                  test_path\n",
      "_locale             cwp                 packaging           test_pycosat\n",
      "_lsprof             cycler              pandas              testpath\n",
      "_lzma               cython              pandocfilters       tests\n",
      "_markupbase         cythonmagic         parser              textwrap\n",
      "_md5                cytoolz             parso               this\n",
      "_msi                dask                partd               threading\n",
      "_multibytecodec     datashape           path                time\n",
      "_multiprocessing    datetime            pathlib             timeit\n",
      "_nsis               dateutil            pathlib2            timer\n",
      "_opcode             dbi                 patsy               tkinter\n",
      "_operator           dbm                 pdb                 tlz\n",
      "_osx_support        dde                 pep8                token\n",
      "_overlapped         decimal             perfmon             tokenize\n",
      "_pickle             decorator           pickle              toolz\n",
      "_pydecimal          difflib             pickleshare         tornado\n",
      "_pyio               dis                 pickletools         trace\n",
      "_pytest             distributed         pip                 traceback\n",
      "_random             distutils           pipes               tracemalloc\n",
      "_sha1               doctest             pkg_resources       traitlets\n",
      "_sha256             docutils            pkginfo             tty\n",
      "_sha3               dummy_threading     pkgutil             turtle\n",
      "_sha512             easy_install        platform            turtledemo\n",
      "_signal             email               plistlib            types\n",
      "_sitebuiltins       encodings           pluggy              typing\n",
      "_socket             ensurepip           ply                 unicodecsv\n",
      "_sqlite3            entrypoints         poplib              unicodedata\n",
      "_sre                enum                posixpath           unittest\n",
      "_ssl                errno               pprint              urllib\n",
      "_stat               et_xmlfile          profile             urllib3\n",
      "_string             fastcache           prompt_toolkit      uu\n",
      "_strptime           faulthandler        pstats              uuid\n",
      "_struct             filecmp             psutil              venv\n",
      "_symtable           fileinput           pty                 warnings\n",
      "_system_path        filelock            py                  wave\n",
      "_testbuffer         flask               py_compile          wcwidth\n",
      "_testcapi           flask_cors          pyclbr              weakref\n",
      "_testconsole        fnmatch             pycodestyle         webbrowser\n",
      "_testimportmultiple formatter           pycosat             webencodings\n",
      "_testmultiphase     fractions           pycparser           werkzeug\n",
      "_thread             ftplib              pycurl              wheel\n",
      "_threading_local    functools           pydoc               widgetsnbextension\n",
      "_tkinter            gc                  pydoc_data          win2kras\n",
      "_tracemalloc        genericpath         pyexpat             win32api\n",
      "_warnings           getopt              pyflakes            win32clipboard\n",
      "_weakref            getpass             pygments            win32com\n",
      "_weakrefset         gettext             pylab               win32con\n",
      "_win32sysloader     gevent              pylint              win32console\n",
      "_winapi             glob                pyodbc              win32cred\n",
      "_winxptheme         glob2               pyparsing           win32crypt\n",
      "_yaml               greenlet            pytest              win32cryptcon\n",
      "abc                 gzip                pytest_arraydiff    win32event\n",
      "adodbapi            h5py                pytest_doctestplus  win32evtlog\n",
      "afxres              hashlib             pytest_openfiles    win32evtlogutil\n",
      "aifc                heapdict            pytest_remotedata   win32file\n",
      "alabaster           heapq               pythoncom           win32gui\n",
      "anaconda_navigator  hmac                pytz                win32gui_struct\n",
      "anaconda_project    html                pywin               win32help\n",
      "antigravity         html5lib            pywin32_testutil    win32inet\n",
      "argparse            http                pywintypes          win32inetcon\n",
      "array               idlelib             pywt                win32job\n",
      "asn1crypto          idna                pyximport           win32lz\n",
      "ast                 imageio             qtawesome           win32net\n",
      "astroid             imagesize           qtconsole           win32netcon\n",
      "astropy             imaplib             qtpy                win32pdh\n",
      "asynchat            imghdr              queue               win32pdhquery\n",
      "asyncio             imp                 quopri              win32pdhutil\n",
      "asyncore            importlib           random              win32pipe\n",
      "atexit              inspect             rasutil             win32print\n",
      "attr                io                  re                  win32process\n",
      "audioop             ipaddress           regcheck            win32profile\n",
      "autoreload          ipykernel           regutil             win32ras\n",
      "babel               ipykernel_launcher  reprlib             win32rcparser\n",
      "backcall            ipython_genutils    requests            win32security\n",
      "backports           ipywidgets          rlcompleter         win32service\n",
      "base64              isapi               rmagic              win32serviceutil\n",
      "bdb                 isort               rope                win32timezone\n",
      "binascii            itertools           ruamel_yaml         win32trace\n",
      "binhex              itsdangerous        run                 win32traceutil\n"
     ]
    },
    {
     "name": "stdout",
     "output_type": "stream",
     "text": [
      "binstar_client      jdcal               runpy               win32transaction\n",
      "bisect              jedi                sched               win32ts\n",
      "bitarray            jinja2              scipy               win32ui\n",
      "bkcharts            json                scripts             win32uiole\n",
      "blaze               jsonschema          seaborn             win32verstamp\n",
      "bleach              jupyter             secrets             win32wnet\n",
      "bokeh               jupyter_client      select              win_inet_pton\n",
      "boto                jupyter_console     selectors           win_unicode_console\n",
      "bottleneck          jupyter_core        send2trash          wincertstore\n",
      "brain_attrs         jupyterlab          servicemanager      winerror\n",
      "brain_builtin_inference jupyterlab_launcher setuptools          winioctlcon\n",
      "brain_collections   keyword             shelve              winnt\n",
      "brain_curses        kiwisolver          shlex               winperf\n",
      "brain_dateutil      lazy_object_proxy   shutil              winpty\n",
      "brain_fstrings      lib2to3             signal              winreg\n",
      "brain_functools     linecache           simplegeneric       winsound\n",
      "brain_gi            llvmlite            singledispatch      winxpgui\n",
      "brain_hashlib       locale              singledispatch_helpers winxptheme\n",
      "brain_io            locket              sip                 wrapt\n",
      "brain_mechanize     logging             sipconfig           wsgiref\n",
      "brain_multiprocessing lxml                sipdistutils        xdrlib\n",
      "brain_namedtuple_enum lzma                site                xlrd\n",
      "brain_nose          macpath             six                 xlsxwriter\n",
      "brain_numpy         macurl2path         skimage             xlwings\n",
      "brain_pkg_resources mailbox             sklearn             xlwt\n",
      "brain_pytest        mailcap             smtpd               xml\n",
      "brain_qt            markupsafe          smtplib             xmlrpc\n",
      "brain_re            marshal             sndhdr              xxsubtype\n",
      "brain_six           math                snowballstemmer     yaml\n",
      "brain_ssl           matplotlib          socket              zict\n",
      "brain_subprocess    mccabe              socketserver        zipapp\n",
      "brain_threading     menuinst            socks               zipfile\n",
      "brain_typing        mimetypes           sockshandler        zipimport\n",
      "brain_uuid          mistune             sortedcollections   zlib\n",
      "bs4                 mkl                 sortedcontainers    zmq\n",
      "builtins            mkl_fft             sphinx              \n",
      "\n",
      "Enter any module name to get more help.  Or, type \"modules spam\" to search\n",
      "for modules whose name or summary contain the string \"spam\".\n",
      "\n"
     ]
    }
   ],
   "source": [
    "help()"
   ]
  },
  {
   "cell_type": "code",
   "execution_count": null,
   "metadata": {},
   "outputs": [],
   "source": []
  }
 ],
 "metadata": {
  "kernelspec": {
   "display_name": "Python 3",
   "language": "python",
   "name": "python3"
  },
  "language_info": {
   "codemirror_mode": {
    "name": "ipython",
    "version": 3
   },
   "file_extension": ".py",
   "mimetype": "text/x-python",
   "name": "python",
   "nbconvert_exporter": "python",
   "pygments_lexer": "ipython3",
   "version": "3.6.5"
  }
 },
 "nbformat": 4,
 "nbformat_minor": 2
}
