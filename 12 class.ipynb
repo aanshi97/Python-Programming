{
 "cells": [
  {
   "cell_type": "markdown",
   "metadata": {},
   "source": [
    "# class"
   ]
  },
  {
   "cell_type": "code",
   "execution_count": 1,
   "metadata": {},
   "outputs": [
    {
     "data": {
      "text/plain": [
       "99"
      ]
     },
     "execution_count": 1,
     "metadata": {},
     "output_type": "execute_result"
    }
   ],
   "source": [
    "class Demo:\n",
    "    def assign(ob,x,y):               #a nd b are global variable\n",
    "        ob.a=x\n",
    "        ob.b=y\n",
    "    def do_sum(ob):                    \n",
    "        #ob.take_input(54,45)\n",
    "        return ob.a+ob.b\n",
    "o=Demo()\n",
    "o.assign(45,54)\n",
    "o.do_sum()"
   ]
  },
  {
   "cell_type": "code",
   "execution_count": 3,
   "metadata": {},
   "outputs": [
    {
     "data": {
      "text/plain": [
       "99"
      ]
     },
     "execution_count": 3,
     "metadata": {},
     "output_type": "execute_result"
    }
   ],
   "source": [
    "class Demo:\n",
    "    def __init__(ob,x,y):               \n",
    "        ob.a=x\n",
    "        ob.b=y\n",
    "    def do_sum(ob):                    \n",
    "        #ob.take_input(54,45)\n",
    "        return ob.a+ob.b\n",
    "o=Demo(45,54)\n",
    "#o.assign(45,54)\n",
    "o.do_sum()"
   ]
  },
  {
   "cell_type": "code",
   "execution_count": 2,
   "metadata": {},
   "outputs": [
    {
     "name": "stdout",
     "output_type": "stream",
     "text": [
      "as a world...\n"
     ]
    }
   ],
   "source": [
    "class world:\n",
    "    def hello(self,x):\n",
    "        print(x)\n",
    "obj=world()\n",
    "obj.hello('as a world...')"
   ]
  },
  {
   "cell_type": "code",
   "execution_count": 3,
   "metadata": {},
   "outputs": [
    {
     "name": "stdout",
     "output_type": "stream",
     "text": [
      "18\n"
     ]
    }
   ],
   "source": [
    "class maths:\n",
    "    def sum(self,x,y,z):\n",
    "        r=x+y+z\n",
    "        print(r)\n",
    "obj=maths()\n",
    "obj.sum(4,8,6)"
   ]
  },
  {
   "cell_type": "code",
   "execution_count": 10,
   "metadata": {},
   "outputs": [
    {
     "ename": "TypeError",
     "evalue": "sum() missing 3 required positional arguments: 'x', 'y', and 'z'",
     "output_type": "error",
     "traceback": [
      "\u001b[1;31m---------------------------------------------------------------------------\u001b[0m",
      "\u001b[1;31mTypeError\u001b[0m                                 Traceback (most recent call last)",
      "\u001b[1;32m<ipython-input-10-37405b498555>\u001b[0m in \u001b[0;36m<module>\u001b[1;34m()\u001b[0m\n\u001b[0;32m      6\u001b[0m         \u001b[1;32mreturn\u001b[0m \u001b[0mself\u001b[0m\u001b[1;33m.\u001b[0m\u001b[0ma\u001b[0m\u001b[1;33m+\u001b[0m\u001b[0mself\u001b[0m\u001b[1;33m.\u001b[0m\u001b[0mb\u001b[0m\u001b[1;33m\u001b[0m\u001b[0m\n\u001b[0;32m      7\u001b[0m \u001b[0mobj\u001b[0m\u001b[1;33m=\u001b[0m\u001b[0mmaths\u001b[0m\u001b[1;33m(\u001b[0m\u001b[1;33m)\u001b[0m\u001b[1;33m\u001b[0m\u001b[0m\n\u001b[1;32m----> 8\u001b[1;33m \u001b[0mobj\u001b[0m\u001b[1;33m.\u001b[0m\u001b[0msum\u001b[0m\u001b[1;33m(\u001b[0m\u001b[1;33m)\u001b[0m\u001b[1;33m\u001b[0m\u001b[0m\n\u001b[0m",
      "\u001b[1;31mTypeError\u001b[0m: sum() missing 3 required positional arguments: 'x', 'y', and 'z'"
     ]
    }
   ],
   "source": [
    "class maths:\n",
    "    def sum(self,x,y,z):\n",
    "        self.a=input('x=')\n",
    "        self.b=input('y=')\n",
    "      #  self.c=input('z=')\n",
    "        return self.a+self.b\n",
    "obj=maths()\n",
    "obj.sum()\n"
   ]
  },
  {
   "cell_type": "code",
   "execution_count": 22,
   "metadata": {},
   "outputs": [
    {
     "data": {
      "text/plain": [
       "5"
      ]
     },
     "execution_count": 22,
     "metadata": {},
     "output_type": "execute_result"
    }
   ],
   "source": [
    "class calculation:\n",
    "    def sum(self,x,y,z):\n",
    "        return(x+y+z)\n",
    "    def sub(self,x,y):\n",
    "        return(x-y)\n",
    "    def div(self,x,y):\n",
    "        return(x/y)\n",
    "    def mul(self,x,y,z):\n",
    "        return(x*y*z)\n",
    "obj=calculation()\n",
    "obj.sum(4,8,3)\n",
    "obj.sub(9,4)\n",
    "        "
   ]
  },
  {
   "cell_type": "code",
   "execution_count": 62,
   "metadata": {},
   "outputs": [
    {
     "data": {
      "text/plain": [
       "15"
      ]
     },
     "execution_count": 62,
     "metadata": {},
     "output_type": "execute_result"
    }
   ],
   "source": [
    "class calculation:\n",
    "    def sum(self,x,y,z):\n",
    "        return(x+y+z)\n",
    "    def sub(self,x,y):\n",
    "        return(x-y)\n",
    "    def div(self,x,y):\n",
    "        return(x/y)\n",
    "    def mul(self,x,y,z):\n",
    "        return(x*y*z)\n",
    "obj=calculation()\n",
    "obj.sum(4,8,3)\n",
    "#obj.sub(9,4)\n",
    "        "
   ]
  },
  {
   "cell_type": "code",
   "execution_count": 63,
   "metadata": {},
   "outputs": [
    {
     "data": {
      "text/plain": [
       "5"
      ]
     },
     "execution_count": 63,
     "metadata": {},
     "output_type": "execute_result"
    }
   ],
   "source": [
    "obj.sub(9,4)"
   ]
  },
  {
   "cell_type": "code",
   "execution_count": 65,
   "metadata": {},
   "outputs": [
    {
     "data": {
      "text/plain": [
       "2.6666666666666665"
      ]
     },
     "execution_count": 65,
     "metadata": {},
     "output_type": "execute_result"
    }
   ],
   "source": [
    "obj.div(8,3)"
   ]
  },
  {
   "cell_type": "code",
   "execution_count": 71,
   "metadata": {},
   "outputs": [
    {
     "data": {
      "text/plain": [
       "40"
      ]
     },
     "execution_count": 71,
     "metadata": {},
     "output_type": "execute_result"
    }
   ],
   "source": [
    "obj.mul(2,5,4)"
   ]
  },
  {
   "cell_type": "code",
   "execution_count": null,
   "metadata": {},
   "outputs": [],
   "source": []
  },
  {
   "cell_type": "code",
   "execution_count": 61,
   "metadata": {},
   "outputs": [
    {
     "data": {
      "text/plain": [
       "19"
      ]
     },
     "execution_count": 61,
     "metadata": {},
     "output_type": "execute_result"
    }
   ],
   "source": [
    "class demo:\n",
    "    def __init__(self,x,y):\n",
    "        self.a = x\n",
    "        self.b = y\n",
    "       \n",
    "    def do_sum(self):\n",
    "        return self.a+self.b\n",
    "obj=demo(5,14)\n",
    "obj.do_sum()\n",
    "        "
   ]
  },
  {
   "cell_type": "code",
   "execution_count": 11,
   "metadata": {},
   "outputs": [
    {
     "data": {
      "text/plain": [
       "15"
      ]
     },
     "execution_count": 11,
     "metadata": {},
     "output_type": "execute_result"
    }
   ],
   "source": [
    "class demo:\n",
    "    def __init__(a,x,y):\n",
    "        a.p=x\n",
    "        a.q=y\n",
    "    def sum(a):\n",
    "        return a.p+a.q\n",
    "o1=demo(3,8)\n",
    "o2=demo(5,10)\n",
    "o1.sum()\n",
    "o2.sum()"
   ]
  },
  {
   "cell_type": "code",
   "execution_count": 18,
   "metadata": {},
   "outputs": [],
   "source": [
    "class demo:\n",
    "    def __init__(a,x,y):\n",
    "        a.p=x\n",
    "        a.q=y\n",
    "    def sum(a):\n",
    "        return a.p+a.q\n",
    "o1=demo(3,8)\n",
    "o2=demo(5,10)\n",
    "#o1.sum()\n",
    "#o2.sum()"
   ]
  },
  {
   "cell_type": "code",
   "execution_count": 19,
   "metadata": {},
   "outputs": [
    {
     "data": {
      "text/plain": [
       "11"
      ]
     },
     "execution_count": 19,
     "metadata": {},
     "output_type": "execute_result"
    }
   ],
   "source": [
    "o1.sum()"
   ]
  },
  {
   "cell_type": "code",
   "execution_count": 20,
   "metadata": {},
   "outputs": [
    {
     "data": {
      "text/plain": [
       "15"
      ]
     },
     "execution_count": 20,
     "metadata": {},
     "output_type": "execute_result"
    }
   ],
   "source": [
    "o2.sum()"
   ]
  },
  {
   "cell_type": "code",
   "execution_count": null,
   "metadata": {},
   "outputs": [],
   "source": []
  },
  {
   "cell_type": "code",
   "execution_count": 2,
   "metadata": {},
   "outputs": [
    {
     "name": "stdout",
     "output_type": "stream",
     "text": [
      "4\n",
      "5\n"
     ]
    },
    {
     "data": {
      "text/plain": [
       "9"
      ]
     },
     "execution_count": 2,
     "metadata": {},
     "output_type": "execute_result"
    }
   ],
   "source": [
    "class demo:\n",
    "    def __init__(self):\n",
    "        self.p=int(input())\n",
    "        self.q=int(input())\n",
    "    def sum(self):\n",
    "        return self.p+self.q\n",
    "o1=demo()\n",
    "#o2=demo()\n",
    "o1.sum()\n",
    "#o2.sum()"
   ]
  },
  {
   "cell_type": "code",
   "execution_count": 12,
   "metadata": {},
   "outputs": [
    {
     "name": "stdout",
     "output_type": "stream",
     "text": [
      "6\n",
      "8\n"
     ]
    },
    {
     "data": {
      "text/plain": [
       "14"
      ]
     },
     "execution_count": 12,
     "metadata": {},
     "output_type": "execute_result"
    }
   ],
   "source": [
    "class demo:\n",
    "    def __init__(ob):\n",
    "        ob.p=int(input())\n",
    "        ob.q=int(input())\n",
    "    def sum(ob):\n",
    "        return ob.p+ob.q\n",
    "o1=demo()\n",
    "#o2=demo()\n",
    "o1.sum()\n",
    "#o2.sum()"
   ]
  },
  {
   "cell_type": "code",
   "execution_count": 17,
   "metadata": {},
   "outputs": [
    {
     "name": "stdout",
     "output_type": "stream",
     "text": [
      "4\n",
      "6\n",
      "3\n",
      "2\n"
     ]
    },
    {
     "data": {
      "text/plain": [
       "5"
      ]
     },
     "execution_count": 17,
     "metadata": {},
     "output_type": "execute_result"
    }
   ],
   "source": [
    "class demo:\n",
    "    def __init__(a):\n",
    "        a.p=int(input())\n",
    "        a.q=int(input())\n",
    "    def sum(a):\n",
    "        return a.p+a.q\n",
    "o1=demo()\n",
    "o1.sum()\n",
    "o2=demo()\n",
    "#o1.sum()\n",
    "o2.sum()"
   ]
  },
  {
   "cell_type": "code",
   "execution_count": 19,
   "metadata": {},
   "outputs": [
    {
     "name": "stdout",
     "output_type": "stream",
     "text": [
      "values for obj1=\n",
      "5\n",
      "7\n"
     ]
    }
   ],
   "source": [
    "class demo:\n",
    "    def __init__(a):\n",
    "        a.p=int(input())\n",
    "        a.q=int(input())\n",
    "    def sum(a):\n",
    "        return a.p+a.q\n",
    "print('values for obj1=')\n",
    "o1=demo()\n",
    "\n",
    "#o1.sum()\n",
    "#print('value for obj2=')\n",
    "#o2=demo()\n",
    "#o1.sum()\n",
    "#o2.sum()"
   ]
  },
  {
   "cell_type": "code",
   "execution_count": 20,
   "metadata": {},
   "outputs": [
    {
     "data": {
      "text/plain": [
       "12"
      ]
     },
     "execution_count": 20,
     "metadata": {},
     "output_type": "execute_result"
    }
   ],
   "source": [
    "o1.sum()"
   ]
  },
  {
   "cell_type": "code",
   "execution_count": 2,
   "metadata": {},
   "outputs": [
    {
     "name": "stdout",
     "output_type": "stream",
     "text": [
      "enter values for object o=\n",
      "9\n",
      "4\n"
     ]
    }
   ],
   "source": [
    "class demo:\n",
    "    def __init__(a):\n",
    "        a.p=int(input())\n",
    "        a.q=int(input())\n",
    "    def sum(a):\n",
    "        return a.p+a.q\n",
    "    def sub(a):\n",
    "        return a.p-a.q\n",
    "    def mul(a):\n",
    "        return a.p*a.q\n",
    "    def div(a):\n",
    "        return a.p/a.q\n",
    "    \n",
    "print('enter values for object o=')\n",
    "o=demo()\n",
    "\n",
    "#obj1.sum()\n",
    "#obj1.sub()\n",
    "#print('value for obj2=')\n",
    "#obj2=demo()\n",
    "#obj2.sum()"
   ]
  },
  {
   "cell_type": "code",
   "execution_count": 4,
   "metadata": {},
   "outputs": [
    {
     "data": {
      "text/plain": [
       "13"
      ]
     },
     "execution_count": 4,
     "metadata": {},
     "output_type": "execute_result"
    }
   ],
   "source": [
    "o.sum()"
   ]
  },
  {
   "cell_type": "code",
   "execution_count": 5,
   "metadata": {},
   "outputs": [
    {
     "data": {
      "text/plain": [
       "5"
      ]
     },
     "execution_count": 5,
     "metadata": {},
     "output_type": "execute_result"
    }
   ],
   "source": [
    "o.sub()"
   ]
  },
  {
   "cell_type": "code",
   "execution_count": 6,
   "metadata": {},
   "outputs": [
    {
     "data": {
      "text/plain": [
       "36"
      ]
     },
     "execution_count": 6,
     "metadata": {},
     "output_type": "execute_result"
    }
   ],
   "source": [
    "o.mul()"
   ]
  },
  {
   "cell_type": "code",
   "execution_count": 7,
   "metadata": {},
   "outputs": [
    {
     "data": {
      "text/plain": [
       "2.25"
      ]
     },
     "execution_count": 7,
     "metadata": {},
     "output_type": "execute_result"
    }
   ],
   "source": [
    "o.div()"
   ]
  },
  {
   "cell_type": "code",
   "execution_count": 8,
   "metadata": {},
   "outputs": [
    {
     "data": {
      "text/plain": [
       "5"
      ]
     },
     "execution_count": 8,
     "metadata": {},
     "output_type": "execute_result"
    }
   ],
   "source": [
    "o.sub()"
   ]
  },
  {
   "cell_type": "code",
   "execution_count": 2,
   "metadata": {},
   "outputs": [
    {
     "name": "stdout",
     "output_type": "stream",
     "text": [
      "4\n"
     ]
    }
   ],
   "source": [
    "class myclass:\n",
    "    x=4\n",
    "obj=myclass()\n",
    "print(obj.x)"
   ]
  },
  {
   "cell_type": "code",
   "execution_count": 3,
   "metadata": {},
   "outputs": [
    {
     "data": {
      "text/plain": [
       "4"
      ]
     },
     "execution_count": 3,
     "metadata": {},
     "output_type": "execute_result"
    }
   ],
   "source": [
    "class myclass:\n",
    "    x=4\n",
    "obj=myclass()\n",
    "obj.x"
   ]
  },
  {
   "cell_type": "code",
   "execution_count": 4,
   "metadata": {},
   "outputs": [
    {
     "name": "stdout",
     "output_type": "stream",
     "text": [
      "5\n",
      "3\n"
     ]
    },
    {
     "data": {
      "text/plain": [
       "8"
      ]
     },
     "execution_count": 4,
     "metadata": {},
     "output_type": "execute_result"
    }
   ],
   "source": [
    "class myclass:\n",
    "    x=int(input())\n",
    "    y=int(input())\n",
    "    c=x+y\n",
    "obj=myclass()\n",
    "obj.c"
   ]
  },
  {
   "cell_type": "code",
   "execution_count": 8,
   "metadata": {},
   "outputs": [
    {
     "name": "stdout",
     "output_type": "stream",
     "text": [
      "her name is aanshi and age is 22\n"
     ]
    }
   ],
   "source": [
    "class person:\n",
    "    def __init__(self,name,age):\n",
    "        self.name=name\n",
    "        self.age=age\n",
    "        \n",
    "ob=person('aanshi',22)\n",
    "\n",
    "print('her name is',ob.name,'and age is',ob.age)"
   ]
  },
  {
   "cell_type": "code",
   "execution_count": 18,
   "metadata": {},
   "outputs": [
    {
     "name": "stdout",
     "output_type": "stream",
     "text": [
      "Aanshi\n",
      "22\n",
      "her name is Aanshi and age is 22\n",
      "Aish\n",
      "21\n",
      "her name is Aish and age is 21\n"
     ]
    }
   ],
   "source": [
    "class person:\n",
    "    def __init__(self):\n",
    "        self.name=input()\n",
    "        self.age=input()\n",
    "        \n",
    "ob1=person()\n",
    "#ob2=person()\n",
    "print('her name is',ob.name,'and age is',ob.age)\n",
    "\n",
    "ob2=person()\n",
    "print('her name is',ob2.name,'and age is',ob2.age)\n"
   ]
  },
  {
   "cell_type": "code",
   "execution_count": 23,
   "metadata": {},
   "outputs": [
    {
     "name": "stdout",
     "output_type": "stream",
     "text": [
      "hello my name is aanshi and my salary is 220000\n"
     ]
    }
   ],
   "source": [
    "class person:\n",
    "    def __init__(self,name,age):\n",
    "        self.name=name\n",
    "        self.age=age\n",
    "    def people(self):\n",
    "        print('hello my name is',self.name,'and my salary is',self.age)\n",
    "        \n",
    "ob=person('aanshi',220000)\n",
    "ob.people()\n",
    "#print('her name is',ob.name,'and age is',ob.age)"
   ]
  },
  {
   "cell_type": "code",
   "execution_count": 24,
   "metadata": {},
   "outputs": [
    {
     "name": "stdout",
     "output_type": "stream",
     "text": [
      "Aanshi\n",
      "2200000\n",
      "her name is Aanshi and her salary is 2200000\n"
     ]
    }
   ],
   "source": [
    "class person:\n",
    "    def __init__(self):\n",
    "        self.name=input()\n",
    "        self.age=input()\n",
    "    def people(self):\n",
    "        print('her name is',self.name,'and her salary is',self.age)\n",
    "        \n",
    "ob=person()\n",
    "ob.people()\n",
    "#print('her name is',ob.name,'and age is',ob.age)"
   ]
  },
  {
   "cell_type": "code",
   "execution_count": 4,
   "metadata": {},
   "outputs": [
    {
     "name": "stdout",
     "output_type": "stream",
     "text": [
      "name-Aanshi\n",
      "age-22\n",
      "salary-1500000\n",
      "year-2020\n",
      "name-Aish\n",
      "age-23\n",
      "salary-1400000\n",
      "year-2021\n",
      "her name is Aanshi and her salary is 1500000\n",
      "her name is Aish salary is 1400000 age is 23 in year 2021\n"
     ]
    }
   ],
   "source": [
    "class person:\n",
    "    def __init__(s):\n",
    "        s.name=input('name-')\n",
    "        s.age=input('age-')\n",
    "        s.salary=input('salary-')\n",
    "        s.year=input('year-')\n",
    "        \n",
    "    def people(s):\n",
    "        print('her name is',s.name,'and her salary is',s.salary)\n",
    "    def detail(s):\n",
    "        print('her name is',s.name,'salary is',s.salary,'age is',s.age,'in year',s.year)\n",
    "        \n",
    "ob1=person()\n",
    "ob2=person()\n",
    "ob1.people()\n",
    "ob2.detail()\n",
    "#print('her name is',ob.name,'and age is',ob.age)"
   ]
  },
  {
   "cell_type": "code",
   "execution_count": 4,
   "metadata": {},
   "outputs": [
    {
     "name": "stdout",
     "output_type": "stream",
     "text": [
      "plz enter your details maam\\sir\n",
      "name-Aanshi\n",
      "joining year-2016\n",
      "fresher salary-50000\n",
      "ok Aanshi you have experience of 3 years and now your salary is 250000\n"
     ]
    }
   ],
   "source": [
    "class info:\n",
    "    def __init__(s):\n",
    "        print('plz enter your details maam\\sir')\n",
    "        s.name=input('name-')\n",
    "        s.j=int(input('joining year-'))\n",
    "        s.s=int(input('fresher salary-'))\n",
    "    def output(s):\n",
    "        print('ok',s.name,'you have experience of',2019-s.j,'years and now your salary is',s.s*5)\n",
    "obj=info()\n",
    "obj.output()\n",
    "    "
   ]
  },
  {
   "cell_type": "code",
   "execution_count": null,
   "metadata": {},
   "outputs": [],
   "source": []
  },
  {
   "cell_type": "code",
   "execution_count": null,
   "metadata": {},
   "outputs": [],
   "source": []
  },
  {
   "cell_type": "code",
   "execution_count": 2,
   "metadata": {},
   "outputs": [
    {
     "name": "stdout",
     "output_type": "stream",
     "text": [
      "a=5\n",
      "b=8\n",
      "enter operator=+\n"
     ]
    },
    {
     "data": {
      "text/plain": [
       "13"
      ]
     },
     "execution_count": 2,
     "metadata": {},
     "output_type": "execute_result"
    }
   ],
   "source": [
    "class initialize:\n",
    "    def __init__(self):\n",
    "        self.a=int(input('a='))\n",
    "        self.b=int(input('b='))\n",
    "        \n",
    "    def operator(self):\n",
    "        self.op=input(\"enter operator=\")\n",
    "        \n",
    "    def add(self,x,y):\n",
    "        return x+y\n",
    "    def substract(self,x,y):\n",
    "        return x-y\n",
    "    def multiplication(self,x,y):\n",
    "        return x*y\n",
    "    def divide(self,x,y):\n",
    "        return x/y\n",
    "    \n",
    "    def operate(self):\n",
    "        self.operator()\n",
    "        if self.op=='+':\n",
    "            return self.add(self.a,self.b)\n",
    "        elif self.op=='-':\n",
    "            return self.substract(self.a,self.b)\n",
    "        elif self.op=='*':\n",
    "            return self.multipliy(self.a,self.b)\n",
    "        elif self.op=='/': \n",
    "            return self.divide(self.a,self.b)\n",
    "        else:\n",
    "            return 'wrong section'\n",
    "\n",
    "ob = initialize()\n",
    "ob.operate()\n",
    "        "
   ]
  },
  {
   "cell_type": "code",
   "execution_count": 3,
   "metadata": {},
   "outputs": [
    {
     "name": "stdout",
     "output_type": "stream",
     "text": [
      "enter operator=-\n"
     ]
    },
    {
     "data": {
      "text/plain": [
       "-3"
      ]
     },
     "execution_count": 3,
     "metadata": {},
     "output_type": "execute_result"
    }
   ],
   "source": [
    "ob.operate()"
   ]
  },
  {
   "cell_type": "code",
   "execution_count": null,
   "metadata": {},
   "outputs": [],
   "source": []
  },
  {
   "cell_type": "code",
   "execution_count": 5,
   "metadata": {},
   "outputs": [
    {
     "name": "stdout",
     "output_type": "stream",
     "text": [
      "a=7\n",
      "b=4\n",
      "enter operator=> -\n"
     ]
    },
    {
     "data": {
      "text/plain": [
       "3"
      ]
     },
     "execution_count": 5,
     "metadata": {},
     "output_type": "execute_result"
    }
   ],
   "source": [
    "class calculation:\n",
    "    def __init__(s):\n",
    "        s.a=int(input('a='))\n",
    "        s.b=int(input('b='))\n",
    "        \n",
    "  #  def operator(self):\n",
    "   #     self.op=input(\"enter operator=\")\n",
    "        \n",
    "    def add(s):\n",
    "        return s.a+s.b\n",
    "    def sub(s):\n",
    "        return s.a-s.b\n",
    "    def mul(s):\n",
    "        return s.a*s.b\n",
    "    def div(s):\n",
    "        return s.a/s.b\n",
    "    \n",
    "    def operate(s):\n",
    "        s.op=input('enter operator=> ')\n",
    "       # self.operator()\n",
    "        if s.op=='+':\n",
    "            return s.add()\n",
    "        elif s.op=='-':\n",
    "            return s.sub()\n",
    "        elif s.op=='*':\n",
    "            return s.mul()\n",
    "        elif s.op=='/': \n",
    "            return s.div()\n",
    "        else:\n",
    "            return 'wrong section'\n",
    "\n",
    "ob = calculation()\n",
    "ob.operate()\n",
    "        "
   ]
  },
  {
   "cell_type": "code",
   "execution_count": 17,
   "metadata": {},
   "outputs": [
    {
     "data": {
      "text/plain": [
       "1.75"
      ]
     },
     "execution_count": 17,
     "metadata": {},
     "output_type": "execute_result"
    }
   ],
   "source": [
    "ob.div()"
   ]
  },
  {
   "cell_type": "code",
   "execution_count": null,
   "metadata": {},
   "outputs": [],
   "source": []
  },
  {
   "cell_type": "code",
   "execution_count": 13,
   "metadata": {},
   "outputs": [
    {
     "name": "stdout",
     "output_type": "stream",
     "text": [
      "a=7\n",
      "b=8\n",
      "enter operator=> -\n"
     ]
    },
    {
     "data": {
      "text/plain": [
       "-1"
      ]
     },
     "execution_count": 13,
     "metadata": {},
     "output_type": "execute_result"
    }
   ],
   "source": [
    "# inheritance\n",
    "\n",
    "\n",
    "class all(calculation,info,world,maths,demo):\n",
    "\n",
    "    pass\n",
    "p=all()\n",
    "p.operate()"
   ]
  },
  {
   "cell_type": "code",
   "execution_count": 14,
   "metadata": {},
   "outputs": [
    {
     "name": "stdout",
     "output_type": "stream",
     "text": [
      "hi! my name is Aanshi.\n"
     ]
    }
   ],
   "source": [
    "p.hello('hi! my name is Aanshi.')"
   ]
  },
  {
   "cell_type": "code",
   "execution_count": 15,
   "metadata": {},
   "outputs": [
    {
     "name": "stdout",
     "output_type": "stream",
     "text": [
      "15\n"
     ]
    }
   ],
   "source": [
    "p.sum(4,8,3)"
   ]
  },
  {
   "cell_type": "code",
   "execution_count": 24,
   "metadata": {},
   "outputs": [
    {
     "ename": "TypeError",
     "evalue": "sum() missing 3 required positional arguments: 'x', 'y', and 'z'",
     "output_type": "error",
     "traceback": [
      "\u001b[1;31m---------------------------------------------------------------------------\u001b[0m",
      "\u001b[1;31mTypeError\u001b[0m                                 Traceback (most recent call last)",
      "\u001b[1;32m<ipython-input-24-53f9312271b0>\u001b[0m in \u001b[0;36m<module>\u001b[1;34m()\u001b[0m\n\u001b[1;32m----> 1\u001b[1;33m \u001b[0mp\u001b[0m\u001b[1;33m.\u001b[0m\u001b[0msum\u001b[0m\u001b[1;33m(\u001b[0m\u001b[1;33m)\u001b[0m\u001b[1;33m\u001b[0m\u001b[0m\n\u001b[0m",
      "\u001b[1;31mTypeError\u001b[0m: sum() missing 3 required positional arguments: 'x', 'y', and 'z'"
     ]
    }
   ],
   "source": [
    "p.sum()"
   ]
  },
  {
   "cell_type": "code",
   "execution_count": 26,
   "metadata": {},
   "outputs": [
    {
     "ename": "AttributeError",
     "evalue": "'all' object has no attribute 'name'",
     "output_type": "error",
     "traceback": [
      "\u001b[1;31m---------------------------------------------------------------------------\u001b[0m",
      "\u001b[1;31mAttributeError\u001b[0m                            Traceback (most recent call last)",
      "\u001b[1;32m<ipython-input-26-321626767bfe>\u001b[0m in \u001b[0;36m<module>\u001b[1;34m()\u001b[0m\n\u001b[1;32m----> 1\u001b[1;33m \u001b[0mp\u001b[0m\u001b[1;33m.\u001b[0m\u001b[0moutput\u001b[0m\u001b[1;33m(\u001b[0m\u001b[1;33m)\u001b[0m\u001b[1;33m\u001b[0m\u001b[0m\n\u001b[0m",
      "\u001b[1;32m<ipython-input-4-cb1e57bf48c0>\u001b[0m in \u001b[0;36moutput\u001b[1;34m(s)\u001b[0m\n\u001b[0;32m      6\u001b[0m         \u001b[0ms\u001b[0m\u001b[1;33m.\u001b[0m\u001b[0ms\u001b[0m\u001b[1;33m=\u001b[0m\u001b[0mint\u001b[0m\u001b[1;33m(\u001b[0m\u001b[0minput\u001b[0m\u001b[1;33m(\u001b[0m\u001b[1;34m'fresher salary-'\u001b[0m\u001b[1;33m)\u001b[0m\u001b[1;33m)\u001b[0m\u001b[1;33m\u001b[0m\u001b[0m\n\u001b[0;32m      7\u001b[0m     \u001b[1;32mdef\u001b[0m \u001b[0moutput\u001b[0m\u001b[1;33m(\u001b[0m\u001b[0ms\u001b[0m\u001b[1;33m)\u001b[0m\u001b[1;33m:\u001b[0m\u001b[1;33m\u001b[0m\u001b[0m\n\u001b[1;32m----> 8\u001b[1;33m         \u001b[0mprint\u001b[0m\u001b[1;33m(\u001b[0m\u001b[1;34m'ok'\u001b[0m\u001b[1;33m,\u001b[0m\u001b[0ms\u001b[0m\u001b[1;33m.\u001b[0m\u001b[0mname\u001b[0m\u001b[1;33m,\u001b[0m\u001b[1;34m'you have experience of'\u001b[0m\u001b[1;33m,\u001b[0m\u001b[1;36m2019\u001b[0m\u001b[1;33m-\u001b[0m\u001b[0ms\u001b[0m\u001b[1;33m.\u001b[0m\u001b[0mj\u001b[0m\u001b[1;33m,\u001b[0m\u001b[1;34m'years and now your salary is'\u001b[0m\u001b[1;33m,\u001b[0m\u001b[0ms\u001b[0m\u001b[1;33m.\u001b[0m\u001b[0ms\u001b[0m\u001b[1;33m*\u001b[0m\u001b[1;36m5\u001b[0m\u001b[1;33m)\u001b[0m\u001b[1;33m\u001b[0m\u001b[0m\n\u001b[0m\u001b[0;32m      9\u001b[0m \u001b[0mobj\u001b[0m\u001b[1;33m=\u001b[0m\u001b[0minfo\u001b[0m\u001b[1;33m(\u001b[0m\u001b[1;33m)\u001b[0m\u001b[1;33m\u001b[0m\u001b[0m\n\u001b[0;32m     10\u001b[0m \u001b[0mobj\u001b[0m\u001b[1;33m.\u001b[0m\u001b[0moutput\u001b[0m\u001b[1;33m(\u001b[0m\u001b[1;33m)\u001b[0m\u001b[1;33m\u001b[0m\u001b[0m\n",
      "\u001b[1;31mAttributeError\u001b[0m: 'all' object has no attribute 'name'"
     ]
    }
   ],
   "source": [
    "p.output()"
   ]
  },
  {
   "cell_type": "code",
   "execution_count": null,
   "metadata": {},
   "outputs": [],
   "source": []
  }
 ],
 "metadata": {
  "kernelspec": {
   "display_name": "Python 3",
   "language": "python",
   "name": "python3"
  },
  "language_info": {
   "codemirror_mode": {
    "name": "ipython",
    "version": 3
   },
   "file_extension": ".py",
   "mimetype": "text/x-python",
   "name": "python",
   "nbconvert_exporter": "python",
   "pygments_lexer": "ipython3",
   "version": "3.6.5"
  }
 },
 "nbformat": 4,
 "nbformat_minor": 2
}
