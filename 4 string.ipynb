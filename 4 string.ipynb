{
 "cells": [
  {
   "cell_type": "markdown",
   "metadata": {},
   "source": [
    "# String"
   ]
  },
  {
   "cell_type": "code",
   "execution_count": 1,
   "metadata": {},
   "outputs": [],
   "source": [
    "a=' '"
   ]
  },
  {
   "cell_type": "code",
   "execution_count": 2,
   "metadata": {},
   "outputs": [
    {
     "data": {
      "text/plain": [
       "str"
      ]
     },
     "execution_count": 2,
     "metadata": {},
     "output_type": "execute_result"
    }
   ],
   "source": [
    "type(a)"
   ]
  },
  {
   "cell_type": "code",
   "execution_count": 3,
   "metadata": {},
   "outputs": [
    {
     "data": {
      "text/plain": [
       "int"
      ]
     },
     "execution_count": 3,
     "metadata": {},
     "output_type": "execute_result"
    }
   ],
   "source": [
    "a=2\n",
    "type(a)"
   ]
  },
  {
   "cell_type": "code",
   "execution_count": 4,
   "metadata": {},
   "outputs": [
    {
     "data": {
      "text/plain": [
       "float"
      ]
     },
     "execution_count": 4,
     "metadata": {},
     "output_type": "execute_result"
    }
   ],
   "source": [
    "a=4.6\n",
    "type(a)"
   ]
  },
  {
   "cell_type": "code",
   "execution_count": 5,
   "metadata": {},
   "outputs": [
    {
     "data": {
      "text/plain": [
       "bool"
      ]
     },
     "execution_count": 5,
     "metadata": {},
     "output_type": "execute_result"
    }
   ],
   "source": [
    "a=True\n",
    "type(a)"
   ]
  },
  {
   "cell_type": "code",
   "execution_count": 6,
   "metadata": {},
   "outputs": [
    {
     "data": {
      "text/plain": [
       "bool"
      ]
     },
     "execution_count": 6,
     "metadata": {},
     "output_type": "execute_result"
    }
   ],
   "source": [
    "a=False\n",
    "type(a)"
   ]
  },
  {
   "cell_type": "code",
   "execution_count": 7,
   "metadata": {},
   "outputs": [
    {
     "data": {
      "text/plain": [
       "list"
      ]
     },
     "execution_count": 7,
     "metadata": {},
     "output_type": "execute_result"
    }
   ],
   "source": [
    "a=[]\n",
    "type(a)"
   ]
  },
  {
   "cell_type": "code",
   "execution_count": 8,
   "metadata": {},
   "outputs": [
    {
     "data": {
      "text/plain": [
       "tuple"
      ]
     },
     "execution_count": 8,
     "metadata": {},
     "output_type": "execute_result"
    }
   ],
   "source": [
    "a=tuple()\n",
    "type(a)"
   ]
  },
  {
   "cell_type": "code",
   "execution_count": 9,
   "metadata": {},
   "outputs": [
    {
     "data": {
      "text/plain": [
       "dict"
      ]
     },
     "execution_count": 9,
     "metadata": {},
     "output_type": "execute_result"
    }
   ],
   "source": [
    "a={1:'b'}\n",
    "type(a)"
   ]
  },
  {
   "cell_type": "code",
   "execution_count": 10,
   "metadata": {},
   "outputs": [],
   "source": [
    "#this is a string\n",
    "\n",
    "b='my name is AANSHI'"
   ]
  },
  {
   "cell_type": "code",
   "execution_count": 11,
   "metadata": {},
   "outputs": [
    {
     "data": {
      "text/plain": [
       "'MY NAME IS AANSHI'"
      ]
     },
     "execution_count": 11,
     "metadata": {},
     "output_type": "execute_result"
    }
   ],
   "source": [
    "#convert all characters in capital\n",
    "\n",
    "b.upper()"
   ]
  },
  {
   "cell_type": "code",
   "execution_count": 12,
   "metadata": {},
   "outputs": [
    {
     "data": {
      "text/plain": [
       "'my name is aanshi'"
      ]
     },
     "execution_count": 12,
     "metadata": {},
     "output_type": "execute_result"
    }
   ],
   "source": [
    "#convert all chars in small latter\n",
    "\n",
    "b.lower()"
   ]
  },
  {
   "cell_type": "code",
   "execution_count": 13,
   "metadata": {},
   "outputs": [
    {
     "data": {
      "text/plain": [
       "'My name is aanshi'"
      ]
     },
     "execution_count": 13,
     "metadata": {},
     "output_type": "execute_result"
    }
   ],
   "source": [
    "#convert only 1st latter of string to be capital\n",
    "\n",
    "b.capitalize()"
   ]
  },
  {
   "cell_type": "code",
   "execution_count": 14,
   "metadata": {},
   "outputs": [
    {
     "data": {
      "text/plain": [
       "'MY NAME IS aanshi'"
      ]
     },
     "execution_count": 14,
     "metadata": {},
     "output_type": "execute_result"
    }
   ],
   "source": [
    "#convert upper to lower and lower to upper the latter in string\n",
    "\n",
    "b.swapcase()"
   ]
  },
  {
   "cell_type": "code",
   "execution_count": 15,
   "metadata": {},
   "outputs": [
    {
     "data": {
      "text/plain": [
       "'my name is aanshi'"
      ]
     },
     "execution_count": 15,
     "metadata": {},
     "output_type": "execute_result"
    }
   ],
   "source": [
    "#convert all chars in lower\n",
    "\n",
    "b.casefold()"
   ]
  },
  {
   "cell_type": "code",
   "execution_count": 16,
   "metadata": {},
   "outputs": [
    {
     "data": {
      "text/plain": [
       "1"
      ]
     },
     "execution_count": 16,
     "metadata": {},
     "output_type": "execute_result"
    }
   ],
   "source": [
    "#count any char in string\n",
    "\n",
    "b.count('n')"
   ]
  },
  {
   "cell_type": "code",
   "execution_count": 17,
   "metadata": {},
   "outputs": [
    {
     "data": {
      "text/plain": [
       "['my', 'name', 'is', 'AANSHI']"
      ]
     },
     "execution_count": 17,
     "metadata": {},
     "output_type": "execute_result"
    }
   ],
   "source": [
    "#split the string\n",
    "\n",
    "b.split()"
   ]
  },
  {
   "cell_type": "code",
   "execution_count": 18,
   "metadata": {},
   "outputs": [
    {
     "data": {
      "text/plain": [
       "17"
      ]
     },
     "execution_count": 18,
     "metadata": {},
     "output_type": "execute_result"
    }
   ],
   "source": [
    "#length of the string\n",
    "\n",
    "len(b)"
   ]
  },
  {
   "cell_type": "code",
   "execution_count": 19,
   "metadata": {},
   "outputs": [
    {
     "data": {
      "text/plain": [
       "'my name is @@NSHI'"
      ]
     },
     "execution_count": 19,
     "metadata": {},
     "output_type": "execute_result"
    }
   ],
   "source": [
    "#replace any char to another char\n",
    "\n",
    "b.replace('A','@')"
   ]
  },
  {
   "cell_type": "code",
   "execution_count": 20,
   "metadata": {},
   "outputs": [
    {
     "data": {
      "text/plain": [
       "11"
      ]
     },
     "execution_count": 20,
     "metadata": {},
     "output_type": "execute_result"
    }
   ],
   "source": [
    "# use of find(),------>to show position of char, if char will not found,is will give -ve no\n",
    "\n",
    "b.find('A')"
   ]
  },
  {
   "cell_type": "code",
   "execution_count": 21,
   "metadata": {},
   "outputs": [
    {
     "data": {
      "text/plain": [
       "-1"
      ]
     },
     "execution_count": 21,
     "metadata": {},
     "output_type": "execute_result"
    }
   ],
   "source": [
    "b.find('z')"
   ]
  },
  {
   "cell_type": "code",
   "execution_count": 22,
   "metadata": {},
   "outputs": [
    {
     "data": {
      "text/plain": [
       "11"
      ]
     },
     "execution_count": 22,
     "metadata": {},
     "output_type": "execute_result"
    }
   ],
   "source": [
    "# use of index(),----->to show position of char,if any char is not found it will give error\n",
    "\n",
    "b.index('A')"
   ]
  },
  {
   "cell_type": "code",
   "execution_count": 23,
   "metadata": {},
   "outputs": [
    {
     "ename": "ValueError",
     "evalue": "substring not found",
     "output_type": "error",
     "traceback": [
      "\u001b[1;31m---------------------------------------------------------------------------\u001b[0m",
      "\u001b[1;31mValueError\u001b[0m                                Traceback (most recent call last)",
      "\u001b[1;32m<ipython-input-23-cc61126f5d4e>\u001b[0m in \u001b[0;36m<module>\u001b[1;34m()\u001b[0m\n\u001b[1;32m----> 1\u001b[1;33m \u001b[0mb\u001b[0m\u001b[1;33m.\u001b[0m\u001b[0mindex\u001b[0m\u001b[1;33m(\u001b[0m\u001b[1;34m'z'\u001b[0m\u001b[1;33m)\u001b[0m\u001b[1;33m\u001b[0m\u001b[0m\n\u001b[0m",
      "\u001b[1;31mValueError\u001b[0m: substring not found"
     ]
    }
   ],
   "source": [
    "b.index('z')"
   ]
  },
  {
   "cell_type": "code",
   "execution_count": 24,
   "metadata": {},
   "outputs": [
    {
     "data": {
      "text/plain": [
       "'my name i'"
      ]
     },
     "execution_count": 24,
     "metadata": {},
     "output_type": "execute_result"
    }
   ],
   "source": [
    "#print chars of string from 0 position to 8th position\n",
    "\n",
    "b[0:9]            #(here we write  0:9 to get chars of position of 0 to 8 chars )"
   ]
  },
  {
   "cell_type": "code",
   "execution_count": 25,
   "metadata": {},
   "outputs": [
    {
     "data": {
      "text/plain": [
       "'y name i'"
      ]
     },
     "execution_count": 25,
     "metadata": {},
     "output_type": "execute_result"
    }
   ],
   "source": [
    "b[1:9]"
   ]
  },
  {
   "cell_type": "code",
   "execution_count": 26,
   "metadata": {},
   "outputs": [
    {
     "data": {
      "text/plain": [
       "'ame i'"
      ]
     },
     "execution_count": 26,
     "metadata": {},
     "output_type": "execute_result"
    }
   ],
   "source": [
    "b[4:9]"
   ]
  },
  {
   "cell_type": "code",
   "execution_count": 27,
   "metadata": {},
   "outputs": [
    {
     "data": {
      "text/plain": [
       "'IHSNAA si eman ym'"
      ]
     },
     "execution_count": 27,
     "metadata": {},
     "output_type": "execute_result"
    }
   ],
   "source": [
    "#show mirror of any string\n",
    "\n",
    "b[::-1]"
   ]
  },
  {
   "cell_type": "code",
   "execution_count": 28,
   "metadata": {},
   "outputs": [
    {
     "data": {
      "text/plain": [
       "'my name i'"
      ]
     },
     "execution_count": 28,
     "metadata": {},
     "output_type": "execute_result"
    }
   ],
   "source": [
    "b[0:9:1]"
   ]
  },
  {
   "cell_type": "code",
   "execution_count": 29,
   "metadata": {},
   "outputs": [
    {
     "data": {
      "text/plain": [
       "'m aei'"
      ]
     },
     "execution_count": 29,
     "metadata": {},
     "output_type": "execute_result"
    }
   ],
   "source": [
    "b[0:9:2]          #here print the chrs except (2-1)=1 position after each char"
   ]
  },
  {
   "cell_type": "code",
   "execution_count": 30,
   "metadata": {},
   "outputs": [
    {
     "data": {
      "text/plain": [
       "'mne'"
      ]
     },
     "execution_count": 30,
     "metadata": {},
     "output_type": "execute_result"
    }
   ],
   "source": [
    "b[0:9:3]          #here print the chrs except (3-1)=2 position after each char"
   ]
  },
  {
   "cell_type": "code",
   "execution_count": 51,
   "metadata": {},
   "outputs": [],
   "source": [
    "w='abcdefghijklmnopqrstuvwxyz'"
   ]
  },
  {
   "cell_type": "code",
   "execution_count": 52,
   "metadata": {},
   "outputs": [
    {
     "data": {
      "text/plain": [
       "'abcdefghijklmnopqrstuvwxyz'"
      ]
     },
     "execution_count": 52,
     "metadata": {},
     "output_type": "execute_result"
    }
   ],
   "source": [
    "w[0:26]         #if we start count the char from 0 then it will print 25th no position ie z,,,,it will print total 26 characters"
   ]
  },
  {
   "cell_type": "code",
   "execution_count": 53,
   "metadata": {},
   "outputs": [
    {
     "data": {
      "text/plain": [
       "'abcdefghijklmnopqrstuvwxy'"
      ]
     },
     "execution_count": 53,
     "metadata": {},
     "output_type": "execute_result"
    }
   ],
   "source": [
    "w[0:25]     #it will print 25 chars,,, 0 to 24th position chars"
   ]
  },
  {
   "cell_type": "code",
   "execution_count": 54,
   "metadata": {},
   "outputs": [
    {
     "data": {
      "text/plain": [
       "'abcdefghijklmnopqrstuvwxyz'"
      ]
     },
     "execution_count": 54,
     "metadata": {},
     "output_type": "execute_result"
    }
   ],
   "source": [
    "w[0:26:1]"
   ]
  },
  {
   "cell_type": "code",
   "execution_count": 55,
   "metadata": {},
   "outputs": [
    {
     "data": {
      "text/plain": [
       "'acegikmoqsuwy'"
      ]
     },
     "execution_count": 55,
     "metadata": {},
     "output_type": "execute_result"
    }
   ],
   "source": [
    "w[0:26:2]    #it will print chars in every gaping 1 char"
   ]
  },
  {
   "cell_type": "code",
   "execution_count": 56,
   "metadata": {},
   "outputs": [
    {
     "data": {
      "text/plain": [
       "'adgjmpsvy'"
      ]
     },
     "execution_count": 56,
     "metadata": {},
     "output_type": "execute_result"
    }
   ],
   "source": [
    "w[0:26:3]    #it will print chars in every gaping 2 chars"
   ]
  },
  {
   "cell_type": "code",
   "execution_count": 57,
   "metadata": {},
   "outputs": [
    {
     "data": {
      "text/plain": [
       "'efghijklmnopqrstuvwxyz'"
      ]
     },
     "execution_count": 57,
     "metadata": {},
     "output_type": "execute_result"
    }
   ],
   "source": [
    "w[4:26:1]     #it will print chas after 4th position char,,,,,,[:] here colon is range slice"
   ]
  },
  {
   "cell_type": "code",
   "execution_count": 31,
   "metadata": {},
   "outputs": [
    {
     "data": {
      "text/plain": [
       "'my name is Aanshi vishwakarma'"
      ]
     },
     "execution_count": 31,
     "metadata": {},
     "output_type": "execute_result"
    }
   ],
   "source": [
    "#concatenate three strings\n",
    "\n",
    "x='my name is'\n",
    "y=' Aanshi'\n",
    "z=' vishwakarma'\n",
    "x+y+z"
   ]
  },
  {
   "cell_type": "code",
   "execution_count": 32,
   "metadata": {},
   "outputs": [
    {
     "data": {
      "text/plain": [
       "'h'"
      ]
     },
     "execution_count": 32,
     "metadata": {},
     "output_type": "execute_result"
    }
   ],
   "source": [
    "s='this is string'\n",
    "s[0]\n",
    "s[1]                               #here it will give position of h which is 1 not t which is 0"
   ]
  },
  {
   "cell_type": "code",
   "execution_count": null,
   "metadata": {},
   "outputs": [],
   "source": []
  },
  {
   "cell_type": "code",
   "execution_count": 33,
   "metadata": {},
   "outputs": [
    {
     "name": "stdout",
     "output_type": "stream",
     "text": [
      "h\n",
      "e\n",
      "l\n",
      "l\n",
      "o\n",
      " \n",
      "w\n",
      "o\n",
      "r\n",
      "l\n",
      "d\n",
      " \n",
      "!\n",
      "length of c = 13\n"
     ]
    }
   ],
   "source": [
    "#print characters of given string\n",
    "\n",
    "c='hello world !'\n",
    "for i in range(len(c)):                   #it will run from 0 to (13-1)=12,,,,length=13\n",
    "    print(c[i])\n",
    "print('length of c =',len(c))"
   ]
  },
  {
   "cell_type": "code",
   "execution_count": 34,
   "metadata": {},
   "outputs": [
    {
     "data": {
      "text/plain": [
       "14"
      ]
     },
     "execution_count": 34,
     "metadata": {},
     "output_type": "execute_result"
    }
   ],
   "source": [
    "len(s)"
   ]
  },
  {
   "cell_type": "code",
   "execution_count": 35,
   "metadata": {},
   "outputs": [
    {
     "data": {
      "text/plain": [
       "'t'"
      ]
     },
     "execution_count": 35,
     "metadata": {},
     "output_type": "execute_result"
    }
   ],
   "source": [
    "s[0]"
   ]
  },
  {
   "cell_type": "code",
   "execution_count": 36,
   "metadata": {},
   "outputs": [
    {
     "data": {
      "text/plain": [
       "'h'"
      ]
     },
     "execution_count": 36,
     "metadata": {},
     "output_type": "execute_result"
    }
   ],
   "source": [
    "s[1]"
   ]
  },
  {
   "cell_type": "code",
   "execution_count": 1,
   "metadata": {},
   "outputs": [
    {
     "name": "stdout",
     "output_type": "stream",
     "text": [
      "1 - \u0001\n",
      "2 - \u0002\n",
      "3 - \u0003\n",
      "4 - \u0004\n",
      "5 - \u0005\n",
      "6 - \u0006\n",
      "7 - \u0007\n",
      "8 - \b\n",
      "9 - \t\n",
      "10 - \n",
      "\n",
      "11 - \u000b",
      "\n",
      "12 - \f",
      "\n",
      "13 - \r\n",
      "14 - \u000e\n",
      "15 - \u000f\n",
      "16 - \u0010\n",
      "17 - \u0011\n",
      "18 - \u0012\n",
      "19 - \u0013\n",
      "20 - \u0014\n",
      "21 - \u0015\n",
      "22 - \u0016\n",
      "23 - \u0017\n",
      "24 - \u0018\n",
      "25 - \u0019\n",
      "26 - \u001a\n",
      "27 - \u001b\n",
      "28 - \u001c",
      "\n",
      "29 - \u001d",
      "\n",
      "30 - \u001e",
      "\n",
      "31 - \u001f\n",
      "32 -  \n",
      "33 - !\n",
      "34 - \"\n",
      "35 - #\n",
      "36 - $\n",
      "37 - %\n",
      "38 - &\n",
      "39 - '\n",
      "40 - (\n",
      "41 - )\n",
      "42 - *\n",
      "43 - +\n",
      "44 - ,\n",
      "45 - -\n",
      "46 - .\n",
      "47 - /\n",
      "48 - 0\n",
      "49 - 1\n",
      "50 - 2\n",
      "51 - 3\n",
      "52 - 4\n",
      "53 - 5\n",
      "54 - 6\n",
      "55 - 7\n",
      "56 - 8\n",
      "57 - 9\n",
      "58 - :\n",
      "59 - ;\n",
      "60 - <\n",
      "61 - =\n",
      "62 - >\n",
      "63 - ?\n",
      "64 - @\n",
      "65 - A\n",
      "66 - B\n",
      "67 - C\n",
      "68 - D\n",
      "69 - E\n",
      "70 - F\n",
      "71 - G\n",
      "72 - H\n",
      "73 - I\n",
      "74 - J\n",
      "75 - K\n",
      "76 - L\n",
      "77 - M\n",
      "78 - N\n",
      "79 - O\n",
      "80 - P\n",
      "81 - Q\n",
      "82 - R\n",
      "83 - S\n",
      "84 - T\n",
      "85 - U\n",
      "86 - V\n",
      "87 - W\n",
      "88 - X\n",
      "89 - Y\n",
      "90 - Z\n",
      "91 - [\n",
      "92 - \\\n",
      "93 - ]\n",
      "94 - ^\n",
      "95 - _\n",
      "96 - `\n",
      "97 - a\n",
      "98 - b\n",
      "99 - c\n",
      "100 - d\n",
      "101 - e\n",
      "102 - f\n",
      "103 - g\n",
      "104 - h\n",
      "105 - i\n",
      "106 - j\n",
      "107 - k\n",
      "108 - l\n",
      "109 - m\n",
      "110 - n\n",
      "111 - o\n",
      "112 - p\n",
      "113 - q\n",
      "114 - r\n",
      "115 - s\n",
      "116 - t\n",
      "117 - u\n",
      "118 - v\n",
      "119 - w\n",
      "120 - x\n",
      "121 - y\n",
      "122 - z\n",
      "123 - {\n",
      "124 - |\n",
      "125 - }\n",
      "126 - ~\n",
      "127 - \n",
      "128 - \n",
      "129 - \n",
      "130 - \n",
      "131 - \n",
      "132 - \n",
      "133 - ",
      "\n",
      "134 - \n",
      "135 - \n",
      "136 - \n",
      "137 - \n",
      "138 - \n",
      "139 - \n",
      "140 - \n",
      "141 - \n",
      "142 - \n",
      "143 - \n",
      "144 - \n",
      "145 - \n",
      "146 - \n",
      "147 - \n",
      "148 - \n",
      "149 - \n",
      "150 - \n",
      "151 - \n",
      "152 - \n",
      "153 - \n",
      "154 - \n",
      "155 - \n",
      "156 - \n",
      "157 - \n",
      "158 - \n",
      "159 - \n",
      "160 -  \n",
      "161 - ¡\n",
      "162 - ¢\n",
      "163 - £\n",
      "164 - ¤\n",
      "165 - ¥\n",
      "166 - ¦\n",
      "167 - §\n",
      "168 - ¨\n",
      "169 - ©\n",
      "170 - ª\n",
      "171 - «\n",
      "172 - ¬\n",
      "173 - ­\n",
      "174 - ®\n",
      "175 - ¯\n",
      "176 - °\n",
      "177 - ±\n",
      "178 - ²\n",
      "179 - ³\n",
      "180 - ´\n",
      "181 - µ\n",
      "182 - ¶\n",
      "183 - ·\n",
      "184 - ¸\n",
      "185 - ¹\n",
      "186 - º\n",
      "187 - »\n",
      "188 - ¼\n",
      "189 - ½\n",
      "190 - ¾\n",
      "191 - ¿\n",
      "192 - À\n",
      "193 - Á\n",
      "194 - Â\n",
      "195 - Ã\n",
      "196 - Ä\n",
      "197 - Å\n",
      "198 - Æ\n",
      "199 - Ç\n",
      "200 - È\n",
      "201 - É\n",
      "202 - Ê\n",
      "203 - Ë\n",
      "204 - Ì\n",
      "205 - Í\n",
      "206 - Î\n",
      "207 - Ï\n",
      "208 - Ð\n",
      "209 - Ñ\n",
      "210 - Ò\n",
      "211 - Ó\n",
      "212 - Ô\n",
      "213 - Õ\n",
      "214 - Ö\n",
      "215 - ×\n",
      "216 - Ø\n",
      "217 - Ù\n",
      "218 - Ú\n",
      "219 - Û\n",
      "220 - Ü\n",
      "221 - Ý\n",
      "222 - Þ\n",
      "223 - ß\n",
      "224 - à\n",
      "225 - á\n",
      "226 - â\n",
      "227 - ã\n",
      "228 - ä\n",
      "229 - å\n",
      "230 - æ\n",
      "231 - ç\n",
      "232 - è\n",
      "233 - é\n",
      "234 - ê\n",
      "235 - ë\n",
      "236 - ì\n",
      "237 - í\n",
      "238 - î\n",
      "239 - ï\n",
      "240 - ð\n",
      "241 - ñ\n",
      "242 - ò\n",
      "243 - ó\n",
      "244 - ô\n",
      "245 - õ\n",
      "246 - ö\n",
      "247 - ÷\n",
      "248 - ø\n",
      "249 - ù\n",
      "250 - ú\n",
      "251 - û\n",
      "252 - ü\n",
      "253 - ý\n",
      "254 - þ\n",
      "255 - ÿ\n",
      "256 - Ā\n",
      "257 - ā\n",
      "258 - Ă\n",
      "259 - ă\n",
      "260 - Ą\n",
      "261 - ą\n",
      "262 - Ć\n",
      "263 - ć\n",
      "264 - Ĉ\n",
      "265 - ĉ\n",
      "266 - Ċ\n",
      "267 - ċ\n",
      "268 - Č\n",
      "269 - č\n",
      "270 - Ď\n",
      "271 - ď\n",
      "272 - Đ\n",
      "273 - đ\n",
      "274 - Ē\n",
      "275 - ē\n",
      "276 - Ĕ\n",
      "277 - ĕ\n",
      "278 - Ė\n",
      "279 - ė\n",
      "280 - Ę\n",
      "281 - ę\n",
      "282 - Ě\n",
      "283 - ě\n",
      "284 - Ĝ\n",
      "285 - ĝ\n",
      "286 - Ğ\n",
      "287 - ğ\n",
      "288 - Ġ\n",
      "289 - ġ\n",
      "290 - Ģ\n",
      "291 - ģ\n",
      "292 - Ĥ\n",
      "293 - ĥ\n",
      "294 - Ħ\n",
      "295 - ħ\n",
      "296 - Ĩ\n",
      "297 - ĩ\n",
      "298 - Ī\n",
      "299 - ī\n",
      "300 - Ĭ\n"
     ]
    }
   ],
   "source": [
    "#print ASCII characters\n",
    "\n",
    "for i in range(1,301,1):\n",
    "    print(i,'-',chr(i))"
   ]
  },
  {
   "cell_type": "code",
   "execution_count": 38,
   "metadata": {},
   "outputs": [
    {
     "data": {
      "text/plain": [
       "65"
      ]
     },
     "execution_count": 38,
     "metadata": {},
     "output_type": "execute_result"
    }
   ],
   "source": [
    "ord('A')"
   ]
  },
  {
   "cell_type": "code",
   "execution_count": 39,
   "metadata": {},
   "outputs": [
    {
     "data": {
      "text/plain": [
       "90"
      ]
     },
     "execution_count": 39,
     "metadata": {},
     "output_type": "execute_result"
    }
   ],
   "source": [
    "ord('Z')"
   ]
  },
  {
   "cell_type": "code",
   "execution_count": 40,
   "metadata": {},
   "outputs": [
    {
     "data": {
      "text/plain": [
       "97"
      ]
     },
     "execution_count": 40,
     "metadata": {},
     "output_type": "execute_result"
    }
   ],
   "source": [
    "ord('a')"
   ]
  },
  {
   "cell_type": "code",
   "execution_count": 41,
   "metadata": {},
   "outputs": [
    {
     "data": {
      "text/plain": [
       "122"
      ]
     },
     "execution_count": 41,
     "metadata": {},
     "output_type": "execute_result"
    }
   ],
   "source": [
    "ord('z')"
   ]
  },
  {
   "cell_type": "code",
   "execution_count": 42,
   "metadata": {},
   "outputs": [
    {
     "data": {
      "text/plain": [
       "48"
      ]
     },
     "execution_count": 42,
     "metadata": {},
     "output_type": "execute_result"
    }
   ],
   "source": [
    "ord('0')"
   ]
  },
  {
   "cell_type": "code",
   "execution_count": 43,
   "metadata": {},
   "outputs": [
    {
     "data": {
      "text/plain": [
       "57"
      ]
     },
     "execution_count": 43,
     "metadata": {},
     "output_type": "execute_result"
    }
   ],
   "source": [
    "ord('9')"
   ]
  },
  {
   "cell_type": "code",
   "execution_count": 44,
   "metadata": {},
   "outputs": [
    {
     "data": {
      "text/plain": [
       "'A'"
      ]
     },
     "execution_count": 44,
     "metadata": {},
     "output_type": "execute_result"
    }
   ],
   "source": [
    "chr(65)"
   ]
  },
  {
   "cell_type": "code",
   "execution_count": 45,
   "metadata": {},
   "outputs": [
    {
     "data": {
      "text/plain": [
       "'\\x01'"
      ]
     },
     "execution_count": 45,
     "metadata": {},
     "output_type": "execute_result"
    }
   ],
   "source": [
    "chr(1)"
   ]
  },
  {
   "cell_type": "code",
   "execution_count": 64,
   "metadata": {},
   "outputs": [
    {
     "data": {
      "text/plain": [
       "'abc=>abc=>abc=>abc=>abc=>abc=>'"
      ]
     },
     "execution_count": 64,
     "metadata": {},
     "output_type": "execute_result"
    }
   ],
   "source": [
    "#print any string n times\n",
    "\n",
    "a='abc=>'\n",
    "a*6                               #here n=6,it will print 6 times of this string"
   ]
  },
  {
   "cell_type": "code",
   "execution_count": null,
   "metadata": {},
   "outputs": [],
   "source": []
  },
  {
   "cell_type": "code",
   "execution_count": 47,
   "metadata": {},
   "outputs": [
    {
     "ename": "NameError",
     "evalue": "name 'n' is not defined",
     "output_type": "error",
     "traceback": [
      "\u001b[1;31m---------------------------------------------------------------------------\u001b[0m",
      "\u001b[1;31mNameError\u001b[0m                                 Traceback (most recent call last)",
      "\u001b[1;32m<ipython-input-47-efcb9d8dcfe2>\u001b[0m in \u001b[0;36m<module>\u001b[1;34m()\u001b[0m\n\u001b[1;32m----> 1\u001b[1;33m \u001b[0mlen\u001b[0m\u001b[1;33m(\u001b[0m\u001b[0mn\u001b[0m\u001b[1;33m)\u001b[0m\u001b[1;33m\u001b[0m\u001b[0m\n\u001b[0m",
      "\u001b[1;31mNameError\u001b[0m: name 'n' is not defined"
     ]
    }
   ],
   "source": [
    "len(n)"
   ]
  },
  {
   "cell_type": "code",
   "execution_count": 48,
   "metadata": {},
   "outputs": [
    {
     "name": "stdout",
     "output_type": "stream",
     "text": [
      "total no os capital chars= 2\n",
      "total no of small chars are= 15\n"
     ]
    }
   ],
   "source": [
    "#print total no of small and capital chars in given string\n",
    "\n",
    "s='Aanshi Vishwakarma'\n",
    "count1=0\n",
    "count2=0\n",
    "for i in range(len(s)):\n",
    "    if ord(s[i])>=65 and ord(s[i])<=90:                   # A=65, Z=90, a=97, z=122\n",
    "        count1=count1+1\n",
    "\n",
    "    elif  ord(s[i])>=97 and ord(s[i])<=122:\n",
    "        count2=count2+1\n",
    "    #else:\n",
    "        #print('nothing is done')\n",
    "        \n",
    "print('total no os capital chars=',count1)\n",
    "print('total no of small chars are=',count2)"
   ]
  },
  {
   "cell_type": "code",
   "execution_count": 49,
   "metadata": {},
   "outputs": [
    {
     "name": "stdout",
     "output_type": "stream",
     "text": [
      "Aanshi Vishwakarma\n",
      "total no of capital chars= 2\n",
      "total no of small chars are= 15\n"
     ]
    }
   ],
   "source": [
    "#print total no of small and capital chars in given string\n",
    "\n",
    "s=input()\n",
    "count1=0\n",
    "count2=0\n",
    "for i in range(len(s)):\n",
    "    if ord(s[i])>=65 and ord(s[i])<=90:\n",
    "        count1=count1+1\n",
    "\n",
    "    elif  ord(s[i])>=97 and ord(s[i])<=122:\n",
    "        count2=count2+1\n",
    "    #else:\n",
    "        #print('nothing is done')\n",
    "        \n",
    "print('total no of capital chars=',count1)\n",
    "print('total no of small chars are=',count2)"
   ]
  },
  {
   "cell_type": "code",
   "execution_count": 3,
   "metadata": {},
   "outputs": [
    {
     "name": "stdout",
     "output_type": "stream",
     "text": [
      "aanshi1503vishwakarma\n",
      "total no of integers= 4\n"
     ]
    }
   ],
   "source": [
    "#print total no of integers in given string\n",
    "\n",
    "s=input()\n",
    "count=0\n",
    "for i in range(len(s)):\n",
    "    if ord(s[i])>=48 and ord(s[i])<=57:               # 0= 48, 9= 57,,ord('0')=48, ord('9')=57\n",
    "        count+=1\n",
    "#    else:\n",
    "#        print('nothing')\n",
    "print('total no of integers=',count)"
   ]
  },
  {
   "cell_type": "code",
   "execution_count": 2,
   "metadata": {},
   "outputs": [
    {
     "name": "stdout",
     "output_type": "stream",
     "text": [
      "Aanshi153\n",
      "capital= 1\n",
      "small= 5\n",
      "integers= 3\n"
     ]
    }
   ],
   "source": [
    "#print total no of capital,small,and integer chars in string\n",
    "\n",
    "s=input()\n",
    "count1=0\n",
    "count2=0\n",
    "count3=0\n",
    "for i in range(len(s)):\n",
    "    if ord(s[i])>=65 and ord(s[i])<=90:\n",
    "        count1+=1\n",
    "    elif ord(s[i])>=97 and ord(s[i])<=122:\n",
    "        count2+=1\n",
    "    elif ord(s[i])>=48 and ord(s[i])<=57:\n",
    "        count3+=1\n",
    "        \n",
    "print('capital=',count1)\n",
    "print('small=',count2)\n",
    "print('integers=',count3)"
   ]
  },
  {
   "cell_type": "code",
   "execution_count": 4,
   "metadata": {},
   "outputs": [
    {
     "name": "stdout",
     "output_type": "stream",
     "text": [
      "Aanshi\n",
      "a\n",
      "A\n",
      "N\n",
      "S\n",
      "H\n",
      "I\n"
     ]
    }
   ],
   "source": [
    "#convert small to capital and capital to small chars in given string\n",
    "\n",
    "s=input()\n",
    "for i in range(len(s)):\n",
    "    if ord(s[i])>=65 and ord(s[i])<=90:\n",
    "        print(s[i].lower())\n",
    "    elif ord(s[i])>=97 and ord(s[i])<=122:\n",
    "        print(s[i].upper())"
   ]
  },
  {
   "cell_type": "code",
   "execution_count": 5,
   "metadata": {},
   "outputs": [
    {
     "name": "stdout",
     "output_type": "stream",
     "text": [
      "Aanshi\n",
      "aANSHI"
     ]
    }
   ],
   "source": [
    "#convert small to capital and capital to small chars in given string\n",
    "\n",
    "s=input()\n",
    "for i in range(len(s)):\n",
    "    if ord(s[i])>=65 and ord(s[i])<=90:\n",
    "        print(s[i].lower(),end='')\n",
    "    elif ord(s[i])>=97 and ord(s[i])<=122:\n",
    "        print(s[i].upper(),end='')"
   ]
  },
  {
   "cell_type": "code",
   "execution_count": 58,
   "metadata": {},
   "outputs": [],
   "source": [
    "q='ghgguiu'"
   ]
  },
  {
   "cell_type": "code",
   "execution_count": 60,
   "metadata": {},
   "outputs": [
    {
     "data": {
      "text/plain": [
       "3"
      ]
     },
     "execution_count": 60,
     "metadata": {},
     "output_type": "execute_result"
    }
   ],
   "source": [
    "q.count('g')"
   ]
  },
  {
   "cell_type": "code",
   "execution_count": 61,
   "metadata": {},
   "outputs": [
    {
     "data": {
      "text/plain": [
       "2"
      ]
     },
     "execution_count": 61,
     "metadata": {},
     "output_type": "execute_result"
    }
   ],
   "source": [
    "q.count('u')"
   ]
  },
  {
   "cell_type": "code",
   "execution_count": 62,
   "metadata": {},
   "outputs": [
    {
     "data": {
      "text/plain": [
       "1"
      ]
     },
     "execution_count": 62,
     "metadata": {},
     "output_type": "execute_result"
    }
   ],
   "source": [
    "q.count('i')"
   ]
  },
  {
   "cell_type": "code",
   "execution_count": 63,
   "metadata": {},
   "outputs": [
    {
     "data": {
      "text/plain": [
       "0"
      ]
     },
     "execution_count": 63,
     "metadata": {},
     "output_type": "execute_result"
    }
   ],
   "source": [
    "q.count('a')"
   ]
  },
  {
   "cell_type": "code",
   "execution_count": 66,
   "metadata": {},
   "outputs": [
    {
     "data": {
      "text/plain": [
       "'g'"
      ]
     },
     "execution_count": 66,
     "metadata": {},
     "output_type": "execute_result"
    }
   ],
   "source": [
    "q[0]"
   ]
  },
  {
   "cell_type": "code",
   "execution_count": 67,
   "metadata": {},
   "outputs": [
    {
     "data": {
      "text/plain": [
       "'h'"
      ]
     },
     "execution_count": 67,
     "metadata": {},
     "output_type": "execute_result"
    }
   ],
   "source": [
    "q[1]"
   ]
  },
  {
   "cell_type": "code",
   "execution_count": 68,
   "metadata": {},
   "outputs": [
    {
     "data": {
      "text/plain": [
       "'u'"
      ]
     },
     "execution_count": 68,
     "metadata": {},
     "output_type": "execute_result"
    }
   ],
   "source": [
    "q[-1]"
   ]
  },
  {
   "cell_type": "code",
   "execution_count": 69,
   "metadata": {},
   "outputs": [
    {
     "data": {
      "text/plain": [
       "'i'"
      ]
     },
     "execution_count": 69,
     "metadata": {},
     "output_type": "execute_result"
    }
   ],
   "source": [
    "q[-2]"
   ]
  },
  {
   "cell_type": "code",
   "execution_count": null,
   "metadata": {},
   "outputs": [],
   "source": []
  }
 ],
 "metadata": {
  "kernelspec": {
   "display_name": "Python 3",
   "language": "python",
   "name": "python3"
  },
  "language_info": {
   "codemirror_mode": {
    "name": "ipython",
    "version": 3
   },
   "file_extension": ".py",
   "mimetype": "text/x-python",
   "name": "python",
   "nbconvert_exporter": "python",
   "pygments_lexer": "ipython3",
   "version": "3.6.5"
  }
 },
 "nbformat": 4,
 "nbformat_minor": 2
}
